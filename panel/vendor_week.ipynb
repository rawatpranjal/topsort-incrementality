{
 "cells": [
  {
   "cell_type": "code",
   "execution_count": 7,
   "id": "c601e37d",
   "metadata": {},
   "outputs": [
    {
     "name": "stdout",
     "output_type": "stream",
     "text": [
      "✅ Connected to Snowflake\n",
      "\n",
      "--- Generating User-Vendor-Week Panel for Pilot Week ---\n",
      "   Using data from 2025-07-01 00:00:00 to 2025-07-08 00:00:00 (exclusive)\n"
     ]
    }
   ],
   "source": [
    "import os\n",
    "import pandas as pd\n",
    "from tabulate import tabulate\n",
    "from dotenv import load_dotenv\n",
    "import snowflake.connector\n",
    "import sys\n",
    "\n",
    "load_dotenv()\n",
    "\n",
    "# --- Your provided Snowflake connection details ---\n",
    "# This connection is for *reading* from INCREMENTALITY.\n",
    "# We no longer need to switch contexts, as we are not creating objects.\n",
    "conn = snowflake.connector.connect(\n",
    "    user=os.getenv('SNOWFLAKE_USER'),\n",
    "    password=os.getenv('SNOWFLAKE_PASSWORD'),\n",
    "    account=os.getenv('SNOWFLAKE_ACCOUNT'),\n",
    "    warehouse=os.getenv('SNOWFLAKE_WAREHOUSE', 'COMPUTE_WH'),\n",
    "    database='INCREMENTALITY', # Source database for Clicks and Purchases\n",
    "    schema='INCREMENTALITY_RESEARCH' # Schema for Clicks and Purchases\n",
    ")\n",
    "cursor = conn.cursor()\n",
    "\n",
    "def run_query(query):\n",
    "    try:\n",
    "        cursor.execute(query)\n",
    "        # For SELECT queries, fetch results\n",
    "        if cursor.description:\n",
    "            results = cursor.fetchall()\n",
    "            columns = [desc[0] for desc in cursor.description]\n",
    "            return pd.DataFrame(results, columns=columns)\n",
    "        # For DDL/DML, no results to fetch (though we won't be doing DDL now)\n",
    "        return pd.DataFrame()\n",
    "    except snowflake.connector.ProgrammingError as e:\n",
    "        print(f\"\\nERROR executing query:\\n{query}\\nDetails: {e}\")\n",
    "        raise # Re-raise the exception to stop execution on error\n",
    "\n",
    "def show_table(df, title=\"\"):\n",
    "    if title:\n",
    "        print(f\"\\n{title}\")\n",
    "        print(\"=\"*len(title))\n",
    "    print(tabulate(df, headers='keys', tablefmt='grid', showindex=False))\n",
    "\n",
    "print(\"✅ Connected to Snowflake\")\n",
    "\n",
    "# Define the pilot week for consistency\n",
    "PILOT_WEEK_START = '2025-07-01 00:00:00'\n",
    "PILOT_WEEK_END = '2025-07-08 00:00:00' # End is exclusive\n",
    "\n",
    "print(\"\\n--- Generating User-Vendor-Week Panel for Pilot Week ---\")\n",
    "print(f\"   Using data from {PILOT_WEEK_START} to {PILOT_WEEK_END} (exclusive)\")"
   ]
  },
  {
   "cell_type": "code",
   "execution_count": 48,
   "id": "98b3582b",
   "metadata": {},
   "outputs": [
    {
     "name": "stdout",
     "output_type": "stream",
     "text": [
      "--- Generating Full-History Clicks-Only Vendor Panel ---\n",
      "   Based on the date check, this will process data from roughly 2025-03-14 to 2025-09-07.\n",
      "\n",
      "✅ Successfully generated full-history panel with 979,290 rows.\n",
      "\n",
      "✅ Data successfully processed and saved to 'vendor_panel_full_history_clicks_only.parquet'\n",
      "\n",
      "Data Sample from 'vendor_panel_full_history_clicks_only.parquet'\n",
      "================================================================\n",
      "+---------------------+--------------------------------------+----------+-------------+-------------------+\n",
      "| week                | vendor_id                            |   clicks |   purchases |   revenue_dollars |\n",
      "+=====================+======================================+==========+=============+===================+\n",
      "| 2025-03-10 00:00:00 | 018e6680-782e-7124-b66d-5511af1480b4 |       38 |           0 |                 0 |\n",
      "+---------------------+--------------------------------------+----------+-------------+-------------------+\n",
      "| 2025-03-17 00:00:00 | 018e6680-782e-7124-b66d-5511af1480b4 |        1 |           0 |                 0 |\n",
      "+---------------------+--------------------------------------+----------+-------------+-------------------+\n",
      "| 2025-03-10 00:00:00 | 018e6692-47da-79c0-bbf4-e953de888762 |      131 |           0 |                 0 |\n",
      "+---------------------+--------------------------------------+----------+-------------+-------------------+\n",
      "| 2025-03-17 00:00:00 | 018e6692-47da-79c0-bbf4-e953de888762 |      200 |           0 |                 0 |\n",
      "+---------------------+--------------------------------------+----------+-------------+-------------------+\n",
      "| 2025-03-24 00:00:00 | 018e6692-47da-79c0-bbf4-e953de888762 |      237 |           1 |                15 |\n",
      "+---------------------+--------------------------------------+----------+-------------+-------------------+\n",
      "| 2025-03-31 00:00:00 | 018e6692-47da-79c0-bbf4-e953de888762 |      246 |           1 |                55 |\n",
      "+---------------------+--------------------------------------+----------+-------------+-------------------+\n",
      "| 2025-04-07 00:00:00 | 018e6692-47da-79c0-bbf4-e953de888762 |       76 |           1 |                60 |\n",
      "+---------------------+--------------------------------------+----------+-------------+-------------------+\n",
      "| 2025-09-01 00:00:00 | 018e669e-f19a-7ee5-96d3-252f6bf1d535 |      218 |           2 |                68 |\n",
      "+---------------------+--------------------------------------+----------+-------------+-------------------+\n",
      "| 2025-03-10 00:00:00 | 018e66b0-5dff-7c01-9a92-5f1e37a7b677 |       84 |           0 |                 0 |\n",
      "+---------------------+--------------------------------------+----------+-------------+-------------------+\n",
      "| 2025-03-17 00:00:00 | 018e66b0-5dff-7c01-9a92-5f1e37a7b677 |      180 |           5 |                74 |\n",
      "+---------------------+--------------------------------------+----------+-------------+-------------------+\n"
     ]
    }
   ],
   "source": [
    "# --- Configuration for Full-History Panel ---\n",
    "print(f\"--- Generating Full-History Clicks-Only Vendor Panel ---\")\n",
    "print(\"   Based on the date check, this will process data from roughly 2025-03-14 to 2025-09-07.\")\n",
    "\n",
    "# --- Define the Full-History Vendor-Week Panel Aggregation Query ---\n",
    "# This query processes all available data by removing the WHERE date clauses.\n",
    "vendor_panel_query_full_history = \"\"\"\n",
    "WITH\n",
    "-- Step 1: Aggregate all historical clicks per vendor *per week*.\n",
    "CLICKS_WEEKLY AS (\n",
    "    SELECT\n",
    "        VENDOR_ID,\n",
    "        DATE_TRUNC('WEEK', OCCURRED_AT) AS week,\n",
    "        COUNT(DISTINCT INTERACTION_ID) AS click_count\n",
    "    FROM CLICKS\n",
    "    GROUP BY VENDOR_ID, week\n",
    "),\n",
    "\n",
    "-- Step 2: Create a CLICK-BASED map from all historical data.\n",
    "PRODUCT_VENDOR_MAP_CLICKS AS (\n",
    "    SELECT DISTINCT PRODUCT_ID, VENDOR_ID\n",
    "    FROM CLICKS\n",
    "    WHERE VENDOR_ID IS NOT NULL AND PRODUCT_ID IS NOT NULL\n",
    "),\n",
    "\n",
    "-- Step 3: Aggregate all historical attributed purchases and revenue per vendor *per week*.\n",
    "PURCHASES_WEEKLY AS (\n",
    "    SELECT\n",
    "        pvm.VENDOR_ID,\n",
    "        DATE_TRUNC('WEEK', p.PURCHASED_AT) AS week,\n",
    "        COUNT(DISTINCT p.PURCHASE_ID) AS purchase_count,\n",
    "        COALESCE(SUM(p.QUANTITY * p.UNIT_PRICE), 0) AS total_revenue_cents\n",
    "    FROM PURCHASES AS p\n",
    "    JOIN PRODUCT_VENDOR_MAP_CLICKS AS pvm ON p.PRODUCT_ID = pvm.PRODUCT_ID\n",
    "    GROUP BY pvm.VENDOR_ID, week\n",
    ")\n",
    "\n",
    "-- Final Step: Join all weekly aggregates into the final panel.\n",
    "SELECT\n",
    "    c.week,\n",
    "    c.vendor_id,\n",
    "    c.click_count AS clicks,\n",
    "    COALESCE(p.purchase_count, 0) AS purchases,\n",
    "    (COALESCE(p.total_revenue_cents, 0) / 100)::DECIMAL(18, 2) AS revenue_dollars\n",
    "    \n",
    "FROM CLICKS_WEEKLY AS c\n",
    "LEFT JOIN PURCHASES_WEEKLY AS p ON c.vendor_id = p.vendor_id AND c.week = p.week\n",
    "ORDER BY c.vendor_id, c.week;\n",
    "\"\"\"\n",
    "\n",
    "try:\n",
    "    # Execute the query to build the full panel\n",
    "    vendor_panel_full_df = run_query(vendor_panel_query_full_history)\n",
    "    print(f\"\\n✅ Successfully generated full-history panel with {len(vendor_panel_full_df):,} rows.\")\n",
    "\n",
    "    # Process and save the DataFrame\n",
    "    vendor_panel_full_df.columns = [col.lower() for col in vendor_panel_full_df.columns]\n",
    "    \n",
    "    # Save to a new Parquet file\n",
    "    output_filename = \"vendor_panel_full_history_clicks_only.parquet\"\n",
    "    vendor_panel_full_df.to_parquet(output_filename, index=False, engine='pyarrow')\n",
    "    \n",
    "    print(f\"\\n✅ Data successfully processed and saved to '{output_filename}'\")\n",
    "    show_table(vendor_panel_full_df.head(10), f\"Data Sample from '{output_filename}'\")\n",
    "\n",
    "except Exception as e:\n",
    "    print(f\"\\nAn error occurred during panel generation: {e}\")"
   ]
  },
  {
   "cell_type": "markdown",
   "id": "b08e14d5",
   "metadata": {},
   "source": [
    "# avg effect of clicks on revenue"
   ]
  },
  {
   "cell_type": "code",
   "execution_count": 52,
   "id": "6476318c",
   "metadata": {},
   "outputs": [
    {
     "data": {
      "text/markdown": [
       "### 1. Data Loading and Validation (Full History Panel)"
      ],
      "text/plain": [
       "<IPython.core.display.Markdown object>"
      ]
     },
     "metadata": {},
     "output_type": "display_data"
    },
    {
     "name": "stdout",
     "output_type": "stream",
     "text": [
      "\n",
      "--- Loading panel data from 'vendor_panel_full_history_clicks_only.parquet' ---\n",
      "✅ Loaded, converted, and prepared panel with 979,290 rows.\n"
     ]
    },
    {
     "data": {
      "text/markdown": [
       "---"
      ],
      "text/plain": [
       "<IPython.core.display.Markdown object>"
      ]
     },
     "metadata": {},
     "output_type": "display_data"
    },
    {
     "data": {
      "text/markdown": [
       "### 2. Main Model: Two-Way Fixed Effects (Log-Log)"
      ],
      "text/plain": [
       "<IPython.core.display.Markdown object>"
      ]
     },
     "metadata": {},
     "output_type": "display_data"
    },
    {
     "data": {
      "text/markdown": [
       "This model estimates the *average* elasticity across all vendors on the full historical dataset."
      ],
      "text/plain": [
       "<IPython.core.display.Markdown object>"
      ]
     },
     "metadata": {},
     "output_type": "display_data"
    },
    {
     "name": "stdout",
     "output_type": "stream",
     "text": [
      "\n",
      "Estimating Average Effect: log(revenue+1) ~ log(clicks+1) | vendor_id + week\n",
      "                          model_main\n",
      "Dependent Var.:   log_revenue_plus_1\n",
      "                                    \n",
      "log_clicks_plus_1 0.6422*** (0.0028)\n",
      "Fixed-Effects:    ------------------\n",
      "vendor_id                        Yes\n",
      "week                             Yes\n",
      "_________________ __________________\n",
      "S.E.: Clustered        by: vendor_id\n",
      "Observations                 979,290\n",
      "R2                           0.55737\n",
      "Within R2                    0.07340\n",
      "---\n",
      "Signif. codes: 0 '***' 0.001 '**' 0.01 '*' 0.05 '.' 0.1 ' ' 1\n"
     ]
    },
    {
     "data": {
      "text/markdown": [
       "✅ Average effect model completed successfully."
      ],
      "text/plain": [
       "<IPython.core.display.Markdown object>"
      ]
     },
     "metadata": {},
     "output_type": "display_data"
    }
   ],
   "source": [
    "import pandas as pd\n",
    "import numpy as np\n",
    "import os\n",
    "from IPython.display import display, Markdown\n",
    "\n",
    "# --- 1. Set up rpy2 Environment for fixest ---\n",
    "# (Assuming setup is complete and successful)\n",
    "if not rpy2_setup_failed:\n",
    "    # --- 2. Load and Prepare the Full-History Panel Data ---\n",
    "    parquet_filename = 'vendor_panel_full_history_clicks_only.parquet'\n",
    "    try:\n",
    "        display(Markdown(\"### 1. Data Loading and Validation (Full History Panel)\"))\n",
    "        print(f\"\\n--- Loading panel data from '{parquet_filename}' ---\")\n",
    "        df_analysis = pd.read_parquet(parquet_filename)\n",
    "        \n",
    "        # =======================================================================\n",
    "        # THE FIX: Convert Decimal and other numeric types to standard floats/integers\n",
    "        # that NumPy and R can work with seamlessly.\n",
    "        # =======================================================================\n",
    "        df_analysis['revenue_dollars'] = df_analysis['revenue_dollars'].astype(float)\n",
    "        df_analysis['clicks'] = df_analysis['clicks'].astype(int)\n",
    "        df_analysis['purchases'] = df_analysis['purchases'].astype(int)\n",
    "        \n",
    "        # Prepare log-transformed variables\n",
    "        df_analysis['log_revenue_plus_1'] = np.log1p(df_analysis['revenue_dollars'])\n",
    "        df_analysis['log_clicks_plus_1'] = np.log1p(df_analysis['clicks'])\n",
    "        \n",
    "        print(f\"✅ Loaded, converted, and prepared panel with {len(df_analysis):,} rows.\")\n",
    "\n",
    "    except Exception as e:\n",
    "        print(f\"ERROR during data loading: {e}\")\n",
    "        df_analysis = pd.DataFrame()\n",
    "\n",
    "    if not df_analysis.empty:\n",
    "        # --- 3. Run the Main Fixed-Effects Model ---\n",
    "        try:\n",
    "            display(Markdown(\"---\"))\n",
    "            display(Markdown(\"### 2. Main Model: Two-Way Fixed Effects (Log-Log)\"))\n",
    "            display(Markdown(\"This model estimates the *average* elasticity across all vendors on the full historical dataset.\"))\n",
    "            \n",
    "            with localconverter(ro.default_converter + pandas2ri.converter):\n",
    "                ro.globalenv['df_for_r_full'] = pandas2ri.py2rpy(df_analysis)\n",
    "\n",
    "            print(\"\\nEstimating Average Effect: log(revenue+1) ~ log(clicks+1) | vendor_id + week\")\n",
    "            ro.r(\"\"\"\n",
    "            library(fixest)\n",
    "            df_panel_full <- df_for_r_full\n",
    "            \n",
    "            model_main <- feols(log_revenue_plus_1 ~ log_clicks_plus_1 | vendor_id + week, \n",
    "                                data = df_panel_full, \n",
    "                                vcov = ~vendor_id)\n",
    "            \n",
    "            print(etable(model_main, digits = 4))\n",
    "            \"\"\")\n",
    "            \n",
    "            display(Markdown(\"✅ Average effect model completed successfully.\"))\n",
    "\n",
    "        except Exception as e:\n",
    "            print(f\"\\nERROR running the fixest model in R: {e}\")"
   ]
  },
  {
   "cell_type": "markdown",
   "id": "dc057021",
   "metadata": {},
   "source": [
    "## iROAS"
   ]
  },
  {
   "cell_type": "code",
   "execution_count": 58,
   "id": "c644ce40",
   "metadata": {},
   "outputs": [
    {
     "data": {
      "text/markdown": [
       "### 5. Sensitivity Analysis: iROAS vs. Cost Per Click (CPC)"
      ],
      "text/plain": [
       "<IPython.core.display.Markdown object>"
      ]
     },
     "metadata": {},
     "output_type": "display_data"
    },
    {
     "data": {
      "image/png": "[encoded data removed]",
      "text/plain": [
       "<Figure size 1200x700 with 1 Axes>"
      ]
     },
     "metadata": {},
     "output_type": "display_data"
    }
   ],
   "source": [
    "import pandas as pd\n",
    "import numpy as np\n",
    "import matplotlib.pyplot as plt\n",
    "import seaborn as sns\n",
    "from IPython.display import display, Markdown\n",
    "\n",
    "# --- 1. Define Your Model Input ---\n",
    "\n",
    "# Your elasticity coefficient from the full-history fixest model\n",
    "beta_elasticity = 0.6422\n",
    "\n",
    "# --- 2. Load Your Data to Calculate the Marginal Revenue per Click ---\n",
    "try:\n",
    "    display(Markdown(\"### 5. Sensitivity Analysis: iROAS vs. Cost Per Click (CPC)\"))\n",
    "    \n",
    "    parquet_filename = 'vendor_panel_full_history_clicks_only.parquet'\n",
    "    df_full = pd.read_parquet(parquet_filename)\n",
    "\n",
    "    # Convert columns to standard numeric types\n",
    "    df_full['revenue_dollars'] = df_full['revenue_dollars'].astype(float)\n",
    "    df_full['clicks'] = df_full['clicks'].astype(int)\n",
    "\n",
    "    # Calculate platform-wide totals\n",
    "    total_revenue = df_full['revenue_dollars'].sum()\n",
    "    total_clicks = df_full['clicks'].sum()\n",
    "    \n",
    "    # Calculate the average revenue generated per click\n",
    "    avg_revenue_per_click = total_revenue / total_clicks\n",
    "    \n",
    "    # This is the key intermediate value: Incremental Revenue from one more click\n",
    "    marginal_revenue_per_click = beta_elasticity * avg_revenue_per_click\n",
    "\n",
    "    # --- 3. Generate Data for the Plot ---\n",
    "    \n",
    "    # Create a range of plausible CPCs to test, from $0.10 to $2.00\n",
    "    cpc_range = np.linspace(0.10, 2.00, 200)\n",
    "    \n",
    "    # Calculate iROAS for each CPC in the range using the formula\n",
    "    # iROAS = Marginal Revenue per Click / CPC\n",
    "    iroas_values = marginal_revenue_per_click / cpc_range\n",
    "\n",
    "    # --- 4. Create the Plot ---\n",
    "    plt.figure(figsize=(12, 7))\n",
    "    sns.set_style(\"whitegrid\")\n",
    "    \n",
    "    # Plot the main iROAS curve\n",
    "    sns.lineplot(x=cpc_range, y=iroas_values, label='iROAS Curve')\n",
    "    \n",
    "    # Add a critical reference line at iROAS = $1.00 (the breakeven point)\n",
    "    plt.axhline(1.0, color='red', linestyle='--', label='Breakeven Point (iROAS = $1.00)')\n",
    "    \n",
    "    # --- Annotate Key Points ---\n",
    "    # Find the breakeven CPC (where iROAS = 1.0)\n",
    "    # 1.0 = marginal_revenue_per_click / breakeven_cpc  =>  breakeven_cpc = marginal_revenue_per_click\n",
    "    breakeven_cpc = marginal_revenue_per_click\n",
    "    plt.axvline(breakeven_cpc, color='green', linestyle=':', label=f'Breakeven CPC = ${breakeven_cpc:.2f}')\n",
    "    \n",
    "    # Annotate the previous single-point estimate\n",
    "    previous_cpc = 0.25\n",
    "    previous_iroas = marginal_revenue_per_click / previous_cpc\n",
    "    plt.plot(previous_cpc, previous_iroas, 'ro', markersize=8, label=f'Previous Estimate (iROAS=${previous_iroas:.2f})')\n",
    "    \n",
    "    # --- Final Plot Formatting ---\n",
    "    plt.title('iROAS Sensitivity to Average Cost Per Click (CPC)', fontsize=16)\n",
    "    plt.xlabel('Assumed Average Cost Per Click ($)', fontsize=12)\n",
    "    plt.ylabel('Calculated Incremental ROAS ($)', fontsize=12)\n",
    "    plt.legend()\n",
    "    plt.xlim(0, 2.0)\n",
    "    plt.ylim(0) # Start y-axis at 0\n",
    "    \n",
    "    # Add explanatory text on the plot\n",
    "    plt.text(1.2, 1.1, 'Profitable Zone\\n(iROAS > $1.00)', color='green', fontsize=12, ha='left')\n",
    "    plt.text(1.2, 0.9, 'Unprofitable Zone\\n(iROAS < $1.00)', color='red', fontsize=12, ha='left')\n",
    "    \n",
    "    plt.show()\n",
    "\n",
    "except FileNotFoundError:\n",
    "    print(f\"ERROR: Data file '{parquet_filename}' not found.\")\n",
    "except Exception as e:\n",
    "    print(f\"An error occurred: {e}\")"
   ]
  },
  {
   "cell_type": "markdown",
   "id": "641e37f3",
   "metadata": {},
   "source": [
    "# vendor level effects"
   ]
  },
  {
   "cell_type": "code",
   "execution_count": 60,
   "id": "50724b1f",
   "metadata": {},
   "outputs": [
    {
     "name": "stdout",
     "output_type": "stream",
     "text": [
      "\n",
      "✅ Using a clean subset of 969,558 rows for the mixed-effects model.\n",
      "✅ Scaled 'log_clicks' to have mean=0, std=1 to improve model stability.\n"
     ]
    },
    {
     "data": {
      "text/markdown": [
       "---"
      ],
      "text/plain": [
       "<IPython.core.display.Markdown object>"
      ]
     },
     "metadata": {},
     "output_type": "display_data"
    },
    {
     "data": {
      "text/markdown": [
       "### 3. Improved Heterogeneity Model (`lme4`) on Full History"
      ],
      "text/plain": [
       "<IPython.core.display.Markdown object>"
      ]
     },
     "metadata": {},
     "output_type": "display_data"
    },
    {
     "data": {
      "text/markdown": [
       "Applying best practices: rescaling predictors and using a more robust optimizer to ensure model convergence."
      ],
      "text/plain": [
       "<IPython.core.display.Markdown object>"
      ]
     },
     "metadata": {},
     "output_type": "display_data"
    },
    {
     "name": "stdout",
     "output_type": "stream",
     "text": [
      "\n",
      "Estimating Improved Mixed-Effects Model with `lme4`...\n"
     ]
    },
    {
     "data": {
      "text/markdown": [
       "#### Regularized Distribution of Vendor-Specific Click Elasticities (βv)"
      ],
      "text/plain": [
       "<IPython.core.display.Markdown object>"
      ]
     },
     "metadata": {},
     "output_type": "display_data"
    },
    {
     "name": "stdout",
     "output_type": "stream",
     "text": [
      "\n",
      "--- Summary Statistics of Regularized Vendor Slopes (βv) from Improved `lme4` Model ---\n",
      "\n",
      "Summary of Regularized βv Distribution\n",
      "======================================\n",
      "+-------------+----------+\n",
      "| Statistic   |    value |\n",
      "+=============+==========+\n",
      "| Min.        | 0.194223 |\n",
      "+-------------+----------+\n",
      "| 1st Qu.     | 0.748671 |\n",
      "+-------------+----------+\n",
      "| Median      | 0.778834 |\n",
      "+-------------+----------+\n",
      "| Mean        | 0.772127 |\n",
      "+-------------+----------+\n",
      "| 3rd Qu.     | 0.799461 |\n",
      "+-------------+----------+\n",
      "| Max.        | 1.26515  |\n",
      "+-------------+----------+\n"
     ]
    },
    {
     "data": {
      "text/markdown": [
       "✅ Heterogeneity analysis completed successfully with a stable model."
      ],
      "text/plain": [
       "<IPython.core.display.Markdown object>"
      ]
     },
     "metadata": {},
     "output_type": "display_data"
    },
    {
     "name": "stdout",
     "output_type": "stream",
     "text": [
      "\n",
      "--- Analysis completed ---\n"
     ]
    }
   ],
   "source": [
    "import pandas as pd\n",
    "import numpy as np\n",
    "import os\n",
    "from IPython.display import display, Markdown\n",
    "\n",
    "# --- 1. Set up rpy2 Environment for lme4 ---\n",
    "# (Assuming setup is complete and successful)\n",
    "if not rpy2_setup_failed:\n",
    "    # --- 2. Load and Prepare Data (if not already in memory) ---\n",
    "    if 'df_analysis' not in locals():\n",
    "        parquet_filename = 'vendor_panel_full_history_clicks_only.parquet'\n",
    "        print(f\"\\n--- Loading panel data from '{parquet_filename}' ---\")\n",
    "        df_analysis = pd.read_parquet(parquet_filename)\n",
    "        # Convert types immediately after loading\n",
    "        df_analysis['revenue_dollars'] = df_analysis['revenue_dollars'].astype(float)\n",
    "        df_analysis['clicks'] = df_analysis['clicks'].astype(int)\n",
    "        df_analysis['log_revenue_plus_1'] = np.log1p(df_analysis['revenue_dollars'])\n",
    "        df_analysis['log_clicks_plus_1'] = np.log1p(df_analysis['clicks'])\n",
    "        print(f\"✅ Data loaded and converted successfully.\")\n",
    "\n",
    "    # --- Data Cleaning and Feature Engineering for a Stable Model ---\n",
    "    vendor_counts = df_analysis['vendor_id'].value_counts()\n",
    "    vendors_with_enough_data = vendor_counts[vendor_counts > 1].index\n",
    "    df_clean = df_analysis[df_analysis['vendor_id'].isin(vendors_with_enough_data)].copy() # Use .copy() to avoid SettingWithCopyWarning\n",
    "    \n",
    "    # =================================================================================\n",
    "    # FIX #1: Rescale the continuous predictor (log_clicks_plus_1)\n",
    "    # This directly addresses the \"very large eigenvalue\" warning.\n",
    "    # =================================================================================\n",
    "    mean_log_clicks = df_clean['log_clicks_plus_1'].mean()\n",
    "    std_log_clicks = df_clean['log_clicks_plus_1'].std()\n",
    "    df_clean['log_clicks_scaled'] = (df_clean['log_clicks_plus_1'] - mean_log_clicks) / std_log_clicks\n",
    "    \n",
    "    print(f\"\\n✅ Using a clean subset of {len(df_clean):,} rows for the mixed-effects model.\")\n",
    "    print(f\"✅ Scaled 'log_clicks' to have mean=0, std=1 to improve model stability.\")\n",
    "\n",
    "    if not df_clean.empty:\n",
    "        # --- 3. Run the Improved lme4 Model for Heterogeneity ---\n",
    "        try:\n",
    "            display(Markdown(\"---\"))\n",
    "            display(Markdown(\"### 3. Improved Heterogeneity Model (`lme4`) on Full History\"))\n",
    "            display(Markdown(\"Applying best practices: rescaling predictors and using a more robust optimizer to ensure model convergence.\"))\n",
    "            \n",
    "            with localconverter(ro.default_converter + pandas2ri.converter):\n",
    "                ro.globalenv['df_for_r_clean'] = pandas2ri.py2rpy(df_clean)\n",
    "\n",
    "            print(\"\\nEstimating Improved Mixed-Effects Model with `lme4`...\")\n",
    "            ro.r(\"\"\"\n",
    "            library(lme4)\n",
    "            \n",
    "            # =================================================================================\n",
    "            # FIX #2 & #3: Use a more robust optimizer and simplify the random effects.\n",
    "            # `(log_clicks_scaled || vendor_id)` fits random intercepts and slopes but assumes\n",
    "            # they are uncorrelated, which is a simpler, more stable structure.\n",
    "            # `optimizer=\"bobyqa\"` is a robust choice for complex models.\n",
    "            # =================================================================================\n",
    "            lmer_model_stable <- lmer(\n",
    "              log_revenue_plus_1 ~ log_clicks_scaled + (log_clicks_scaled || vendor_id) + (1 | week),\n",
    "              data = df_for_r_clean,\n",
    "              control = lmerControl(optimizer = \"bobyqa\", optCtrl = list(maxfun = 2e5))\n",
    "            )\n",
    "            \n",
    "            # Extract coefficients. Note they are for the SCALED clicks variable now.\n",
    "            vendor_coefs <- coef(lmer_model_stable)$vendor_id\n",
    "            beta_v_scaled_regularized <- vendor_coefs[, \"log_clicks_scaled\"]\n",
    "            \n",
    "            # To make the slopes interpretable, we must un-scale them back to the original units.\n",
    "            # Unscaling formula: beta_original = beta_scaled / std_dev\n",
    "            beta_v_unscaled <- beta_v_scaled_regularized / sd(df_for_r_clean$log_clicks_plus_1)\n",
    "            \n",
    "            beta_v_summary <- summary(beta_v_unscaled)\n",
    "            \"\"\")\n",
    "            \n",
    "            # --- Display the results as a clean table ---\n",
    "            display(Markdown(\"#### Regularized Distribution of Vendor-Specific Click Elasticities (βv)\"))\n",
    "            print(\"\\n--- Summary Statistics of Regularized Vendor Slopes (βv) from Improved `lme4` Model ---\")\n",
    "            \n",
    "            beta_v_summary_r = ro.r('beta_v_summary')\n",
    "            summary_dict = {\n",
    "                'Min.': [beta_v_summary_r[0]], '1st Qu.': [beta_v_summary_r[1]],\n",
    "                'Median': [beta_v_summary_r[2]], 'Mean': [beta_v_summary_r[3]],\n",
    "                '3rd Qu.': [beta_v_summary_r[4]], 'Max.': [beta_v_summary_r[5]]\n",
    "            }\n",
    "            summary_df = pd.DataFrame.from_dict(summary_dict, orient='index', columns=['value'])\n",
    "            show_table(summary_df.reset_index().rename(columns={'index': 'Statistic'}), \"Summary of Regularized βv Distribution\")\n",
    "            \n",
    "            display(Markdown(\"✅ Heterogeneity analysis completed successfully with a stable model.\"))\n",
    "\n",
    "        except Exception as e:\n",
    "            print(f\"\\nERROR running the lme4 model in R: {e}\")\n",
    "\n",
    "        print(\"\\n--- Analysis completed ---\")"
   ]
  },
  {
   "cell_type": "code",
   "execution_count": null,
   "id": "0d18ecd2",
   "metadata": {},
   "outputs": [
    {
     "name": "stdout",
     "output_type": "stream",
     "text": [
      "\n",
      "--- Loading and preparing panel data from 'vendor_panel_full_history_clicks_only.parquet' ---\n",
      "✅ Data loaded and prepared for 969,558 rows.\n"
     ]
    },
    {
     "data": {
      "text/markdown": [
       "### 1. Estimating Regularized Vendor Elasticities (βv)"
      ],
      "text/plain": [
       "<IPython.core.display.Markdown object>"
      ]
     },
     "metadata": {},
     "output_type": "display_data"
    },
    {
     "name": "stdout",
     "output_type": "stream",
     "text": [
      "\n",
      "Estimating Improved Mixed-Effects Model with `lme4`... (This may take several minutes)\n"
     ]
    }
   ],
   "source": [
    "import pandas as pd\n",
    "import numpy as np\n",
    "import os\n",
    "import matplotlib.pyplot as plt\n",
    "import seaborn as sns\n",
    "from IPython.display import display, Markdown\n",
    "\n",
    "# --- 1. Set up rpy2 Environment for lme4 ---\n",
    "# (Assuming setup is complete and successful)\n",
    "if not rpy2_setup_failed:\n",
    "    # --- 2. Load and Prepare Data (if not already in memory) ---\n",
    "    if 'df_analysis' not in locals() or 'log_clicks_scaled' not in df_analysis.columns:\n",
    "        parquet_filename = 'vendor_panel_full_history_clicks_only.parquet'\n",
    "        print(f\"\\n--- Loading and preparing panel data from '{parquet_filename}' ---\")\n",
    "        df_analysis = pd.read_parquet(parquet_filename)\n",
    "        \n",
    "        # Convert types and create log variables\n",
    "        df_analysis['revenue_dollars'] = df_analysis['revenue_dollars'].astype(float)\n",
    "        df_analysis['clicks'] = df_analysis['clicks'].astype(int)\n",
    "        df_analysis['log_revenue_plus_1'] = np.log1p(df_analysis['revenue_dollars'])\n",
    "        df_analysis['log_clicks_plus_1'] = np.log1p(df_analysis['clicks'])\n",
    "\n",
    "        # Data Cleaning for Mixed-Effects Models\n",
    "        vendor_counts = df_analysis['vendor_id'].value_counts()\n",
    "        vendors_with_enough_data = vendor_counts[vendor_counts > 1].index\n",
    "        df_clean = df_analysis[df_analysis['vendor_id'].isin(vendors_with_enough_data)].copy()\n",
    "        \n",
    "        # Rescale the continuous predictor for model stability\n",
    "        mean_log_clicks = df_clean['log_clicks_plus_1'].mean()\n",
    "        std_log_clicks = df_clean['log_clicks_plus_1'].std()\n",
    "        df_clean['log_clicks_scaled'] = (df_clean['log_clicks_plus_1'] - mean_log_clicks) / std_log_clicks\n",
    "        \n",
    "        print(f\"✅ Data loaded and prepared for {len(df_clean):,} rows.\")\n",
    "\n",
    "    if not df_clean.empty:\n",
    "        # --- 3. Run the Improved lme4 Model for Heterogeneity ---\n",
    "        try:\n",
    "            display(Markdown(\"### 1. Estimating Regularized Vendor Elasticities (βv)\"))\n",
    "            \n",
    "            with localconverter(ro.default_converter + pandas2ri.converter):\n",
    "                ro.globalenv['df_for_r_clean'] = pandas2ri.py2rpy(df_clean)\n",
    "\n",
    "            print(\"\\nEstimating Improved Mixed-Effects Model with `lme4`... (This may take several minutes)\")\n",
    "            ro.r(\"\"\"\n",
    "            library(lme4)\n",
    "            \n",
    "            # Fit the stable model with a robust optimizer\n",
    "            lmer_model_stable <- lmer(\n",
    "              log_revenue_plus_1 ~ log_clicks_scaled + (log_clicks_scaled || vendor_id) + (1 | week),\n",
    "              data = df_for_r_clean,\n",
    "              control = lmerControl(optimizer = \"bobyqa\", optCtrl = list(maxfun = 2e5))\n",
    "            )\n",
    "            \n",
    "            # Extract scaled coefficients\n",
    "            vendor_coefs <- coef(lmer_model_stable)$vendor_id\n",
    "            beta_v_scaled_regularized <- vendor_coefs[, \"log_clicks_scaled\"]\n",
    "            \n",
    "            # Un-scale them to get the true, interpretable elasticities\n",
    "            beta_v_unscaled <- beta_v_scaled_regularized / sd(df_for_r_clean$log_clicks_plus_1)\n",
    "            \n",
    "            beta_v_df <- data.frame(\n",
    "              vendor_id = rownames(vendor_coefs),\n",
    "              vendor_slope_beta_v = as.numeric(beta_v_unscaled)\n",
    "            )\n",
    "            \"\"\")\n",
    "            \n",
    "            # Convert the final slopes back to a pandas DataFrame\n",
    "            with localconverter(ro.default_converter + pandas2ri.converter):\n",
    "                beta_v_df = ro.r('beta_v_df')\n",
    "            print(\"✅ Model estimation complete.\")\n",
    "\n",
    "            # --- 4. Calculate Vendor-Specific iROAS ---\n",
    "            display(Markdown(\"### 2. Calculating Vendor-Specific iROAS (iROASv)\"))\n",
    "\n",
    "            # Assume a platform-wide average CPC\n",
    "            assumed_cpc = 0.2\n",
    "            print(f\"\\nAssuming a platform-wide average CPC of ${assumed_cpc:.2f}\")\n",
    "\n",
    "            # Calculate each vendor's average revenue per click\n",
    "            vendor_metrics = df_clean.groupby('vendor_id').agg(\n",
    "                total_revenue=('revenue_dollars', 'sum'),\n",
    "                total_clicks=('clicks', 'sum')\n",
    "            ).reset_index()\n",
    "            vendor_metrics['avg_rev_per_click'] = vendor_metrics['total_revenue'] / vendor_metrics['total_clicks']\n",
    "            vendor_metrics = vendor_metrics.replace([np.inf, -np.inf], 0).fillna(0) # Handle division by zero\n",
    "\n",
    "            # Merge the elasticities (βv) with the business metrics\n",
    "            df_results = pd.merge(beta_v_df, vendor_metrics, on='vendor_id', how='inner')\n",
    "\n",
    "            # Calculate iROAS for each vendor\n",
    "            df_results['iroas_v'] = (df_results['vendor_slope_beta_v'] * df_results['avg_rev_per_click']) / assumed_cpc\n",
    "            print(\"✅ Vendor-specific iROAS calculated.\")\n",
    "\n",
    "            # --- 5. Visualize the Full Distributions ---\n",
    "            display(Markdown(\"### 3. Visualizing the Full Distributions\"))\n",
    "\n",
    "            # For visualization, it's helpful to trim extreme iROAS outliers\n",
    "            # to focus on the core distribution.\n",
    "            lower_bound = df_results['iroas_v'].quantile(0.01)\n",
    "            upper_bound = df_results['iroas_v'].quantile(0.99)\n",
    "            df_trimmed = df_results[df_results['iroas_v'].between(lower_bound, upper_bound)]\n",
    "            \n",
    "            fig, axes = plt.subplots(1, 2, figsize=(18, 7))\n",
    "\n",
    "            # Plot 1: Distribution of Vendor Elasticities (βv)\n",
    "            sns.kdeplot(data=df_results, x='vendor_slope_beta_v', fill=True, ax=axes[0])\n",
    "            mean_beta = df_results['vendor_slope_beta_v'].mean()\n",
    "            axes[0].axvline(mean_beta, color='red', linestyle='--', label=f'Mean Elasticity = {mean_beta:.3f}')\n",
    "            axes[0].set_title('Distribution of Regularized Vendor Elasticities (βv)', fontsize=16)\n",
    "            axes[0].set_xlabel('Click Elasticity (βv)')\n",
    "            axes[0].legend()\n",
    "\n",
    "            # Plot 2: Distribution of Vendor iROAS (iROASv)\n",
    "            sns.kdeplot(data=df_trimmed, x='iroas_v', fill=True, ax=axes[1], color='green')\n",
    "            axes[1].axvline(1.0, color='red', linestyle='--', label='Breakeven Point (iROAS = $1.00)')\n",
    "            profitable_vendors_pct = (df_results['iroas_v'] > 1.0).mean() * 100\n",
    "            axes[1].set_title('Distribution of Regularized Vendor iROAS (iROASv)', fontsize=16)\n",
    "            axes[1].set_xlabel(f'Incremental ROAS ($) (Trimmed to 99th percentile: ${upper_bound:.2f})')\n",
    "            axes[1].legend()\n",
    "            \n",
    "            # Add annotation\n",
    "            axes[1].text(0.95, 0.95, f'{profitable_vendors_pct:.1f}% of vendors\\nare profitable (iROAS > 1)', \n",
    "                         transform=axes[1].transAxes, fontsize=12, verticalalignment='top', horizontalalignment='right',\n",
    "                         bbox=dict(boxstyle='round,pad=0.5', fc='wheat', alpha=0.5))\n",
    "\n",
    "            plt.tight_layout()\n",
    "            plt.show()\n",
    "\n",
    "        except Exception as e:\n",
    "            print(f\"\\nERROR running the analysis pipeline in R: {e}\")\n",
    "\n",
    "        print(\"\\n--- Analysis completed ---\")"
   ]
  },
  {
   "cell_type": "code",
   "execution_count": null,
   "id": "708970c8",
   "metadata": {},
   "outputs": [],
   "source": []
  }
 ],
 "metadata": {
  "kernelspec": {
   "display_name": "venv",
   "language": "python",
   "name": "python3"
  },
  "language_info": {
   "codemirror_mode": {
    "name": "ipython",
    "version": 3
   },
   "file_extension": ".py",
   "mimetype": "text/x-python",
   "name": "python",
   "nbconvert_exporter": "python",
   "pygments_lexer": "ipython3",
   "version": "3.13.7"
  }
 },
 "nbformat": 4,
 "nbformat_minor": 5
}
