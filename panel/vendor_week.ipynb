{
 "cells": [
  {
   "cell_type": "code",
   "execution_count": 1,
   "id": "c601e37d",
   "metadata": {},
   "outputs": [
    {
     "name": "stdout",
     "output_type": "stream",
     "text": [
      "✅ Connected to Snowflake\n",
      "\n",
      "--- Generating User-Vendor-Week Panel for Pilot Week ---\n",
      "   Using data from 2025-07-01 00:00:00 to 2025-07-08 00:00:00 (exclusive)\n"
     ]
    }
   ],
   "source": [
    "import os\n",
    "import pandas as pd\n",
    "from tabulate import tabulate\n",
    "from dotenv import load_dotenv\n",
    "import snowflake.connector\n",
    "import sys\n",
    "\n",
    "load_dotenv()\n",
    "\n",
    "# --- Your provided Snowflake connection details ---\n",
    "# This connection is for *reading* from INCREMENTALITY.\n",
    "# We no longer need to switch contexts, as we are not creating objects.\n",
    "conn = snowflake.connector.connect(\n",
    "    user=os.getenv('SNOWFLAKE_USER'),\n",
    "    password=os.getenv('SNOWFLAKE_PASSWORD'),\n",
    "    account=os.getenv('SNOWFLAKE_ACCOUNT'),\n",
    "    warehouse=os.getenv('SNOWFLAKE_WAREHOUSE', 'COMPUTE_WH'),\n",
    "    database='INCREMENTALITY', # Source database for Clicks and Purchases\n",
    "    schema='INCREMENTALITY_RESEARCH' # Schema for Clicks and Purchases\n",
    ")\n",
    "cursor = conn.cursor()\n",
    "\n",
    "def run_query(query):\n",
    "    try:\n",
    "        cursor.execute(query)\n",
    "        # For SELECT queries, fetch results\n",
    "        if cursor.description:\n",
    "            results = cursor.fetchall()\n",
    "            columns = [desc[0] for desc in cursor.description]\n",
    "            return pd.DataFrame(results, columns=columns)\n",
    "        # For DDL/DML, no results to fetch (though we won't be doing DDL now)\n",
    "        return pd.DataFrame()\n",
    "    except snowflake.connector.ProgrammingError as e:\n",
    "        print(f\"\\nERROR executing query:\\n{query}\\nDetails: {e}\")\n",
    "        raise # Re-raise the exception to stop execution on error\n",
    "\n",
    "def show_table(df, title=\"\"):\n",
    "    if title:\n",
    "        print(f\"\\n{title}\")\n",
    "        print(\"=\"*len(title))\n",
    "    print(tabulate(df, headers='keys', tablefmt='grid', showindex=False))\n",
    "\n",
    "print(\"✅ Connected to Snowflake\")\n",
    "\n",
    "# Define the pilot week for consistency\n",
    "PILOT_WEEK_START = '2025-07-01 00:00:00'\n",
    "PILOT_WEEK_END = '2025-07-08 00:00:00' # End is exclusive\n",
    "\n",
    "print(\"\\n--- Generating User-Vendor-Week Panel for Pilot Week ---\")\n",
    "print(f\"   Using data from {PILOT_WEEK_START} to {PILOT_WEEK_END} (exclusive)\")"
   ]
  },
  {
   "cell_type": "code",
   "execution_count": 2,
   "id": "98b3582b",
   "metadata": {},
   "outputs": [
    {
     "name": "stdout",
     "output_type": "stream",
     "text": [
      "--- Generating Full-History Clicks-Only Vendor Panel ---\n",
      "   Based on the date check, this will process data from roughly 2025-03-14 to 2025-09-07.\n",
      "\n",
      "✅ Successfully generated full-history panel with 1,019,609 rows.\n",
      "\n",
      "✅ Data successfully processed and saved to 'vendor_panel_full_history_clicks_only.parquet'\n",
      "\n",
      "Data Sample from 'vendor_panel_full_history_clicks_only.parquet'\n",
      "================================================================\n",
      "+---------------------+--------------------------------------+----------+-------------+-------------------+\n",
      "| week                | vendor_id                            |   clicks |   purchases |   revenue_dollars |\n",
      "+=====================+======================================+==========+=============+===================+\n",
      "| 2025-03-10 00:00:00 | 018e6680-782e-7124-b66d-5511af1480b4 |       38 |           0 |                 0 |\n",
      "+---------------------+--------------------------------------+----------+-------------+-------------------+\n",
      "| 2025-03-17 00:00:00 | 018e6680-782e-7124-b66d-5511af1480b4 |        1 |           0 |                 0 |\n",
      "+---------------------+--------------------------------------+----------+-------------+-------------------+\n",
      "| 2025-03-10 00:00:00 | 018e6692-47da-79c0-bbf4-e953de888762 |      131 |           0 |                 0 |\n",
      "+---------------------+--------------------------------------+----------+-------------+-------------------+\n",
      "| 2025-03-17 00:00:00 | 018e6692-47da-79c0-bbf4-e953de888762 |      200 |           0 |                 0 |\n",
      "+---------------------+--------------------------------------+----------+-------------+-------------------+\n",
      "| 2025-03-24 00:00:00 | 018e6692-47da-79c0-bbf4-e953de888762 |      237 |           1 |                15 |\n",
      "+---------------------+--------------------------------------+----------+-------------+-------------------+\n",
      "| 2025-03-31 00:00:00 | 018e6692-47da-79c0-bbf4-e953de888762 |      246 |           1 |                55 |\n",
      "+---------------------+--------------------------------------+----------+-------------+-------------------+\n",
      "| 2025-04-07 00:00:00 | 018e6692-47da-79c0-bbf4-e953de888762 |       76 |           1 |                60 |\n",
      "+---------------------+--------------------------------------+----------+-------------+-------------------+\n",
      "| 2025-09-01 00:00:00 | 018e669e-f19a-7ee5-96d3-252f6bf1d535 |      302 |           2 |                68 |\n",
      "+---------------------+--------------------------------------+----------+-------------+-------------------+\n",
      "| 2025-09-08 00:00:00 | 018e669e-f19a-7ee5-96d3-252f6bf1d535 |      147 |           0 |                 0 |\n",
      "+---------------------+--------------------------------------+----------+-------------+-------------------+\n",
      "| 2025-03-10 00:00:00 | 018e66b0-5dff-7c01-9a92-5f1e37a7b677 |       84 |           0 |                 0 |\n",
      "+---------------------+--------------------------------------+----------+-------------+-------------------+\n"
     ]
    }
   ],
   "source": [
    "# --- Configuration for Full-History Panel ---\n",
    "print(f\"--- Generating Full-History Clicks-Only Vendor Panel ---\")\n",
    "print(\"   Based on the date check, this will process data from roughly 2025-03-14 to 2025-09-07.\")\n",
    "\n",
    "# --- Define the Full-History Vendor-Week Panel Aggregation Query ---\n",
    "# This query processes all available data by removing the WHERE date clauses.\n",
    "vendor_panel_query_full_history = \"\"\"\n",
    "WITH\n",
    "-- Step 1: Aggregate all historical clicks per vendor *per week*.\n",
    "CLICKS_WEEKLY AS (\n",
    "    SELECT\n",
    "        VENDOR_ID,\n",
    "        DATE_TRUNC('WEEK', OCCURRED_AT) AS week,\n",
    "        COUNT(DISTINCT INTERACTION_ID) AS click_count\n",
    "    FROM CLICKS\n",
    "    GROUP BY VENDOR_ID, week\n",
    "),\n",
    "\n",
    "-- Step 2: Create a CLICK-BASED map from all historical data.\n",
    "PRODUCT_VENDOR_MAP_CLICKS AS (\n",
    "    SELECT DISTINCT PRODUCT_ID, VENDOR_ID\n",
    "    FROM CLICKS\n",
    "    WHERE VENDOR_ID IS NOT NULL AND PRODUCT_ID IS NOT NULL\n",
    "),\n",
    "\n",
    "-- Step 3: Aggregate all historical attributed purchases and revenue per vendor *per week*.\n",
    "PURCHASES_WEEKLY AS (\n",
    "    SELECT\n",
    "        pvm.VENDOR_ID,\n",
    "        DATE_TRUNC('WEEK', p.PURCHASED_AT) AS week,\n",
    "        COUNT(DISTINCT p.PURCHASE_ID) AS purchase_count,\n",
    "        COALESCE(SUM(p.QUANTITY * p.UNIT_PRICE), 0) AS total_revenue_cents\n",
    "    FROM PURCHASES AS p\n",
    "    JOIN PRODUCT_VENDOR_MAP_CLICKS AS pvm ON p.PRODUCT_ID = pvm.PRODUCT_ID\n",
    "    GROUP BY pvm.VENDOR_ID, week\n",
    ")\n",
    "\n",
    "-- Final Step: Join all weekly aggregates into the final panel.\n",
    "SELECT\n",
    "    c.week,\n",
    "    c.vendor_id,\n",
    "    c.click_count AS clicks,\n",
    "    COALESCE(p.purchase_count, 0) AS purchases,\n",
    "    (COALESCE(p.total_revenue_cents, 0) / 100)::DECIMAL(18, 2) AS revenue_dollars\n",
    "    \n",
    "FROM CLICKS_WEEKLY AS c\n",
    "LEFT JOIN PURCHASES_WEEKLY AS p ON c.vendor_id = p.vendor_id AND c.week = p.week\n",
    "ORDER BY c.vendor_id, c.week;\n",
    "\"\"\"\n",
    "\n",
    "try:\n",
    "    # Execute the query to build the full panel\n",
    "    vendor_panel_full_df = run_query(vendor_panel_query_full_history)\n",
    "    print(f\"\\n✅ Successfully generated full-history panel with {len(vendor_panel_full_df):,} rows.\")\n",
    "\n",
    "    # Process and save the DataFrame\n",
    "    vendor_panel_full_df.columns = [col.lower() for col in vendor_panel_full_df.columns]\n",
    "    \n",
    "    # Save to a new Parquet file\n",
    "    output_filename = \"vendor_panel_full_history_clicks_only.parquet\"\n",
    "    vendor_panel_full_df.to_parquet(output_filename, index=False, engine='pyarrow')\n",
    "    \n",
    "    print(f\"\\n✅ Data successfully processed and saved to '{output_filename}'\")\n",
    "    show_table(vendor_panel_full_df.head(10), f\"Data Sample from '{output_filename}'\")\n",
    "\n",
    "except Exception as e:\n",
    "    print(f\"\\nAn error occurred during panel generation: {e}\")"
   ]
  },
  {
   "cell_type": "markdown",
   "id": "04f47bec",
   "metadata": {},
   "source": [
    "# eda"
   ]
  },
  {
   "cell_type": "code",
   "execution_count": 66,
   "id": "b0028087",
   "metadata": {},
   "outputs": [
    {
     "data": {
      "text/markdown": [
       "### EDA 1: High-Level Overview"
      ],
      "text/plain": [
       "<IPython.core.display.Markdown object>"
      ]
     },
     "metadata": {},
     "output_type": "display_data"
    },
    {
     "name": "stdout",
     "output_type": "stream",
     "text": [
      "\n",
      "Dataset Dimensions\n",
      "==================\n",
      "+---------------------------+---------+\n",
      "| Metric                    | Value   |\n",
      "+===========================+=========+\n",
      "| Total Observations (Rows) | 979,290 |\n",
      "+---------------------------+---------+\n",
      "| Total Columns             | 7       |\n",
      "+---------------------------+---------+\n",
      "| Unique Vendors            | 150,075 |\n",
      "+---------------------------+---------+\n",
      "| Unique Weeks              | 26      |\n",
      "+---------------------------+---------+\n",
      "\n",
      "Column Data Types\n",
      "=================\n",
      "+--------------------+----------------+\n",
      "| index              | data_type      |\n",
      "+====================+================+\n",
      "| week               | datetime64[ns] |\n",
      "+--------------------+----------------+\n",
      "| vendor_id          | object         |\n",
      "+--------------------+----------------+\n",
      "| clicks             | int64          |\n",
      "+--------------------+----------------+\n",
      "| purchases          | int64          |\n",
      "+--------------------+----------------+\n",
      "| revenue_dollars    | float64        |\n",
      "+--------------------+----------------+\n",
      "| log_revenue_plus_1 | float64        |\n",
      "+--------------------+----------------+\n",
      "| log_clicks_plus_1  | float64        |\n",
      "+--------------------+----------------+\n"
     ]
    },
    {
     "data": {
      "text/markdown": [
       "### EDA 2: Panel Structure Analysis"
      ],
      "text/plain": [
       "<IPython.core.display.Markdown object>"
      ]
     },
     "metadata": {},
     "output_type": "display_data"
    },
    {
     "name": "stdout",
     "output_type": "stream",
     "text": [
      "\n",
      "Distribution of Observations per Vendor\n",
      "=======================================\n",
      "+----------------------------+---------------------+\n",
      "|   weeks_of_data_per_vendor |   number_of_vendors |\n",
      "+============================+=====================+\n",
      "|                         26 |                7046 |\n",
      "+----------------------------+---------------------+\n",
      "|                         25 |                1921 |\n",
      "+----------------------------+---------------------+\n",
      "|                         24 |                1383 |\n",
      "+----------------------------+---------------------+\n",
      "|                         23 |                1243 |\n",
      "+----------------------------+---------------------+\n",
      "|                         22 |                1198 |\n",
      "+----------------------------+---------------------+\n",
      "|                         21 |                1227 |\n",
      "+----------------------------+---------------------+\n",
      "|                         20 |                1218 |\n",
      "+----------------------------+---------------------+\n",
      "|                         19 |                1210 |\n",
      "+----------------------------+---------------------+\n",
      "|                         18 |                1283 |\n",
      "+----------------------------+---------------------+\n",
      "|                         17 |                1362 |\n",
      "+----------------------------+---------------------+\n",
      "|                         16 |                1384 |\n",
      "+----------------------------+---------------------+\n",
      "|                         15 |                1522 |\n",
      "+----------------------------+---------------------+\n",
      "|                         14 |                1742 |\n",
      "+----------------------------+---------------------+\n",
      "|                         13 |                1730 |\n",
      "+----------------------------+---------------------+\n",
      "|                         12 |                2012 |\n",
      "+----------------------------+---------------------+\n",
      "|                         11 |                2214 |\n",
      "+----------------------------+---------------------+\n",
      "|                         10 |                2479 |\n",
      "+----------------------------+---------------------+\n",
      "|                          9 |                2927 |\n",
      "+----------------------------+---------------------+\n",
      "|                          8 |                3382 |\n",
      "+----------------------------+---------------------+\n",
      "|                          7 |                4090 |\n",
      "+----------------------------+---------------------+\n",
      "|                          6 |                5380 |\n",
      "+----------------------------+---------------------+\n",
      "|                          5 |                7166 |\n",
      "+----------------------------+---------------------+\n",
      "|                          4 |               10738 |\n",
      "+----------------------------+---------------------+\n",
      "|                          3 |               23632 |\n",
      "+----------------------------+---------------------+\n",
      "|                          2 |               50854 |\n",
      "+----------------------------+---------------------+\n",
      "|                          1 |                9732 |\n",
      "+----------------------------+---------------------+\n",
      "\n",
      "Interpretation: This table shows how many vendors have data for a specific number of weeks.\n",
      "A large number of vendors with few weeks of data can make estimating individual effects noisy.\n"
     ]
    },
    {
     "data": {
      "text/markdown": [
       "### EDA 3: Distribution of Core Metrics"
      ],
      "text/plain": [
       "<IPython.core.display.Markdown object>"
      ]
     },
     "metadata": {},
     "output_type": "display_data"
    },
    {
     "name": "stdout",
     "output_type": "stream",
     "text": [
      "\n",
      "Overall Distribution of Key Metrics\n",
      "===================================\n",
      "+---------+------------+--------------+-------------------+\n",
      "| index   |     clicks |    purchases |   revenue_dollars |\n",
      "+=========+============+==============+===================+\n",
      "| count   | 979290     | 979290       |       979290      |\n",
      "+---------+------------+--------------+-------------------+\n",
      "| mean    |    148.782 |      2.10557 |           88.0226 |\n",
      "+---------+------------+--------------+-------------------+\n",
      "| std     |    211.418 |      6.13956 |          380.854  |\n",
      "+---------+------------+--------------+-------------------+\n",
      "| min     |      1     |      0       |            0      |\n",
      "+---------+------------+--------------+-------------------+\n",
      "| 25%     |     56     |      0       |            0      |\n",
      "+---------+------------+--------------+-------------------+\n",
      "| 50%     |    102     |      1       |           18      |\n",
      "+---------+------------+--------------+-------------------+\n",
      "| 75%     |    168     |      2       |           76      |\n",
      "+---------+------------+--------------+-------------------+\n",
      "| max     |  11292     |   1288       |        77281      |\n",
      "+---------+------------+--------------+-------------------+\n",
      "\n",
      "Zero-Revenue Observations: 42.63% of the panel has zero weekly revenue.\n",
      "\n",
      "Distribution for Positive-Revenue Weeks ONLY\n",
      "============================================\n",
      "+---------+------------+--------------+-------------------+\n",
      "| index   |     clicks |    purchases |   revenue_dollars |\n",
      "+=========+============+==============+===================+\n",
      "| count   | 561772     | 561772       |        561772     |\n",
      "+---------+------------+--------------+-------------------+\n",
      "| mean    |    200.011 |      3.67047 |           153.442 |\n",
      "+---------+------------+--------------+-------------------+\n",
      "| std     |    261.245 |      7.74372 |           492.763 |\n",
      "+---------+------------+--------------+-------------------+\n",
      "| min     |      1     |      1       |             3     |\n",
      "+---------+------------+--------------+-------------------+\n",
      "| 25%     |     85     |      1       |            29     |\n",
      "+---------+------------+--------------+-------------------+\n",
      "| 50%     |    135     |      2       |            63     |\n",
      "+---------+------------+--------------+-------------------+\n",
      "| 75%     |    217     |      4       |           145     |\n",
      "+---------+------------+--------------+-------------------+\n",
      "| max     |  11292     |   1288       |         77281     |\n",
      "+---------+------------+--------------+-------------------+\n"
     ]
    },
    {
     "data": {
      "text/markdown": [
       "### EDA 4: Platform-Wide Weekly Trends"
      ],
      "text/plain": [
       "<IPython.core.display.Markdown object>"
      ]
     },
     "metadata": {},
     "output_type": "display_data"
    },
    {
     "name": "stdout",
     "output_type": "stream",
     "text": [
      "\n",
      "Weekly Platform Aggregates\n",
      "==========================\n",
      "+---------------------+-----------------+----------------+------------------+\n",
      "| week                | total_revenue   | total_clicks   | active_vendors   |\n",
      "+=====================+=================+================+==================+\n",
      "| 2025-09-01 00:00:00 | $3,582,007      | 6,520,078      | 42,487           |\n",
      "+---------------------+-----------------+----------------+------------------+\n",
      "| 2025-08-25 00:00:00 | $3,999,679      | 7,094,910      | 41,577           |\n",
      "+---------------------+-----------------+----------------+------------------+\n",
      "| 2025-08-18 00:00:00 | $4,056,596      | 7,049,578      | 41,499           |\n",
      "+---------------------+-----------------+----------------+------------------+\n",
      "| 2025-08-11 00:00:00 | $4,022,353      | 7,119,281      | 42,442           |\n",
      "+---------------------+-----------------+----------------+------------------+\n",
      "| 2025-08-04 00:00:00 | $4,031,077      | 6,970,287      | 43,641           |\n",
      "+---------------------+-----------------+----------------+------------------+\n",
      "| 2025-07-28 00:00:00 | $3,918,905      | 7,027,018      | 43,413           |\n",
      "+---------------------+-----------------+----------------+------------------+\n",
      "| 2025-07-21 00:00:00 | $3,753,766      | 6,770,729      | 42,148           |\n",
      "+---------------------+-----------------+----------------+------------------+\n",
      "| 2025-07-14 00:00:00 | $3,808,789      | 6,559,074      | 41,374           |\n",
      "+---------------------+-----------------+----------------+------------------+\n",
      "| 2025-07-07 00:00:00 | $3,581,718      | 6,157,240      | 40,638           |\n",
      "+---------------------+-----------------+----------------+------------------+\n",
      "| 2025-06-30 00:00:00 | $3,475,813      | 6,113,721      | 39,464           |\n",
      "+---------------------+-----------------+----------------+------------------+\n",
      "| 2025-06-23 00:00:00 | $3,554,236      | 6,086,990      | 38,679           |\n",
      "+---------------------+-----------------+----------------+------------------+\n",
      "| 2025-06-16 00:00:00 | $3,588,405      | 5,987,362      | 38,116           |\n",
      "+---------------------+-----------------+----------------+------------------+\n",
      "| 2025-06-09 00:00:00 | $3,513,374      | 5,739,971      | 37,742           |\n",
      "+---------------------+-----------------+----------------+------------------+\n",
      "| 2025-06-02 00:00:00 | $3,617,432      | 5,872,061      | 37,474           |\n",
      "+---------------------+-----------------+----------------+------------------+\n",
      "| 2025-05-26 00:00:00 | $3,689,027      | 6,257,208      | 36,195           |\n",
      "+---------------------+-----------------+----------------+------------------+\n",
      "| 2025-05-19 00:00:00 | $3,638,917      | 5,858,525      | 35,425           |\n",
      "+---------------------+-----------------+----------------+------------------+\n",
      "| 2025-05-12 00:00:00 | $3,572,324      | 5,830,321      | 35,157           |\n",
      "+---------------------+-----------------+----------------+------------------+\n",
      "| 2025-05-05 00:00:00 | $3,203,289      | 5,262,750      | 34,946           |\n",
      "+---------------------+-----------------+----------------+------------------+\n",
      "| 2025-04-28 00:00:00 | $3,255,178      | 5,154,569      | 34,824           |\n",
      "+---------------------+-----------------+----------------+------------------+\n",
      "| 2025-04-21 00:00:00 | $3,055,254      | 4,930,713      | 34,429           |\n",
      "+---------------------+-----------------+----------------+------------------+\n",
      "| 2025-04-14 00:00:00 | $2,862,842      | 4,677,307      | 34,364           |\n",
      "+---------------------+-----------------+----------------+------------------+\n",
      "| 2025-04-07 00:00:00 | $2,701,949      | 4,249,478      | 34,577           |\n",
      "+---------------------+-----------------+----------------+------------------+\n",
      "| 2025-03-31 00:00:00 | $2,531,973      | 3,785,604      | 34,265           |\n",
      "+---------------------+-----------------+----------------+------------------+\n",
      "| 2025-03-24 00:00:00 | $2,378,629      | 3,693,882      | 32,991           |\n",
      "+---------------------+-----------------+----------------+------------------+\n",
      "| 2025-03-17 00:00:00 | $2,072,812      | 3,394,225      | 32,449           |\n",
      "+---------------------+-----------------+----------------+------------------+\n",
      "| 2025-03-10 00:00:00 | $733,279        | 1,537,430      | 28,974           |\n",
      "+---------------------+-----------------+----------------+------------------+\n",
      "\n",
      "Interpretation: Look for trends, seasonality, or sudden spikes/dips in platform activity.\n"
     ]
    },
    {
     "data": {
      "text/markdown": [
       "### EDA 5: Correlation Analysis"
      ],
      "text/plain": [
       "<IPython.core.display.Markdown object>"
      ]
     },
     "metadata": {},
     "output_type": "display_data"
    },
    {
     "name": "stdout",
     "output_type": "stream",
     "text": [
      "\n",
      "Correlation Matrix (Raw Values)\n",
      "===============================\n",
      "+-----------------+----------+-------------+-------------------+\n",
      "| index           |   clicks |   purchases |   revenue_dollars |\n",
      "+=================+==========+=============+===================+\n",
      "| clicks          | 1        |    0.546619 |          0.383178 |\n",
      "+-----------------+----------+-------------+-------------------+\n",
      "| purchases       | 0.546619 |    1        |          0.642807 |\n",
      "+-----------------+----------+-------------+-------------------+\n",
      "| revenue_dollars | 0.383178 |    0.642807 |          1        |\n",
      "+-----------------+----------+-------------+-------------------+\n",
      "\n",
      "Correlation Matrix (Log-Transformed Values)\n",
      "===========================================\n",
      "+--------------------+---------------------+----------------------+\n",
      "| index              |   log_clicks_plus_1 |   log_revenue_plus_1 |\n",
      "+====================+=====================+======================+\n",
      "| log_clicks_plus_1  |            1        |             0.493968 |\n",
      "+--------------------+---------------------+----------------------+\n",
      "| log_revenue_plus_1 |            0.493968 |             1        |\n",
      "+--------------------+---------------------+----------------------+\n",
      "\n",
      "Interpretation: The log-transformed correlation is a better preview of the linear relationship your model will estimate.\n"
     ]
    },
    {
     "data": {
      "text/markdown": [
       "### EDA 6: Top Vendor Analysis"
      ],
      "text/plain": [
       "<IPython.core.display.Markdown object>"
      ]
     },
     "metadata": {},
     "output_type": "display_data"
    },
    {
     "name": "stdout",
     "output_type": "stream",
     "text": [
      "\n",
      "Top 15 Vendors by Total Revenue\n",
      "===============================\n",
      "+--------------------------------------+-----------------+----------------+----------------+\n",
      "| vendor_id                            | total_revenue   | total_clicks   |   weeks_active |\n",
      "+======================================+=================+================+================+\n",
      "| 01952a60-9005-73b0-98b8-3b3a6a25fd6c | $720,673        | 8,492          |             26 |\n",
      "+--------------------------------------+-----------------+----------------+----------------+\n",
      "| 065298be-a5e6-7435-ad24-36ff8f3c7c7c | $471,834        | 16,471         |             26 |\n",
      "+--------------------------------------+-----------------+----------------+----------------+\n",
      "| 064df69b-496a-78d6-b124-3c6c0c2a0b90 | $288,457        | 122,298        |             17 |\n",
      "+--------------------------------------+-----------------+----------------+----------------+\n",
      "| 064ce6ab-dd22-7987-a124-0b003531c280 | $252,327        | 25,906         |             26 |\n",
      "+--------------------------------------+-----------------+----------------+----------------+\n",
      "| 064ac17e-38b3-762d-a924-d36e4551f19e | $246,675        | 45,812         |             26 |\n",
      "+--------------------------------------+-----------------+----------------+----------------+\n",
      "| 065aa9de-b679-724a-9e24-512ec8e95549 | $245,928        | 15,409         |             26 |\n",
      "+--------------------------------------+-----------------+----------------+----------------+\n",
      "| 06509667-264c-7d9d-8f24-14172f665ec2 | $220,242        | 121,138        |             26 |\n",
      "+--------------------------------------+-----------------+----------------+----------------+\n",
      "| 06481f22-cac0-7e3a-9724-e22d8833c398 | $190,685        | 64,369         |             26 |\n",
      "+--------------------------------------+-----------------+----------------+----------------+\n",
      "| 06564be7-99bc-77df-9924-244d9336eddf | $182,856        | 43,238         |             26 |\n",
      "+--------------------------------------+-----------------+----------------+----------------+\n",
      "| 065d1a38-6e41-7729-9d24-ea2f485765d0 | $173,181        | 82,013         |             26 |\n",
      "+--------------------------------------+-----------------+----------------+----------------+\n",
      "| 065cf9c7-ccc6-7f05-a424-af01485765d0 | $166,741        | 4,365          |             26 |\n",
      "+--------------------------------------+-----------------+----------------+----------------+\n",
      "| 0657b2c1-e66f-7fd5-b624-9026aa7de0f9 | $161,248        | 50,482         |             26 |\n",
      "+--------------------------------------+-----------------+----------------+----------------+\n",
      "| 0196b659-5130-7a41-ac93-972d36fd1814 | $150,798        | 122            |              3 |\n",
      "+--------------------------------------+-----------------+----------------+----------------+\n",
      "| 01928685-d22f-7f53-8c94-9f4b1ffd3291 | $150,428        | 2,872          |             26 |\n",
      "+--------------------------------------+-----------------+----------------+----------------+\n",
      "| 06568e92-4caf-7bf8-b124-83c2fe11127e | $144,122        | 46,175         |             25 |\n",
      "+--------------------------------------+-----------------+----------------+----------------+\n",
      "\n",
      "Interpretation: This shows if revenue is heavily concentrated among a few top vendors.\n"
     ]
    }
   ],
   "source": [
    "import pandas as pd\n",
    "import numpy as np\n",
    "from IPython.display import display, Markdown\n",
    "\n",
    "# --- Prerequisite: Load and Prepare Data ---\n",
    "# This block loads the data once and prepares it for all subsequent EDA steps.\n",
    "try:\n",
    "    if 'df_analysis' not in locals() or 'log_clicks_plus_1' not in df_analysis.columns:\n",
    "        parquet_filename = 'vendor_panel_full_history_clicks_only.parquet'\n",
    "        print(f\"--- Loading and preparing data from '{parquet_filename}' ---\")\n",
    "        df_analysis = pd.read_parquet(parquet_filename)\n",
    "\n",
    "        # Convert types for calculations and modeling\n",
    "        df_analysis['revenue_dollars'] = df_analysis['revenue_dollars'].astype(float)\n",
    "        df_analysis['clicks'] = df_analysis['clicks'].astype(int)\n",
    "        df_analysis['purchases'] = df_analysis['purchases'].astype(int)\n",
    "        df_analysis['week'] = pd.to_datetime(df_analysis['week'])\n",
    "        \n",
    "        # Create log-transformed variables for analysis\n",
    "        df_analysis['log_revenue_plus_1'] = np.log1p(df_analysis['revenue_dollars'])\n",
    "        df_analysis['log_clicks_plus_1'] = np.log1p(df_analysis['clicks'])\n",
    "        print(f\"✅ Data loaded and prepared successfully.\\n\")\n",
    "\n",
    "except FileNotFoundError:\n",
    "    print(f\"ERROR: The file 'vendor_panel_full_history_clicks_only.parquet' was not found.\")\n",
    "    df_analysis = pd.DataFrame()\n",
    "\n",
    "# --- Main EDA Block ---\n",
    "# All analysis is contained within this block to ensure it only runs if data loading was successful.\n",
    "if not df_analysis.empty:\n",
    "\n",
    "    # EDA 1: High-Level Overview\n",
    "    display(Markdown(\"### EDA 1: High-Level Overview\"))\n",
    "    num_rows, num_cols = df_analysis.shape\n",
    "    num_vendors = df_analysis['vendor_id'].nunique()\n",
    "    num_weeks = df_analysis['week'].nunique()\n",
    "    summary_data = {\n",
    "        \"Metric\": [\"Total Observations (Rows)\", \"Total Columns\", \"Unique Vendors\", \"Unique Weeks\"],\n",
    "        \"Value\": [f\"{num_rows:,}\", num_cols, f\"{num_vendors:,}\", num_weeks]\n",
    "    }\n",
    "    show_table(pd.DataFrame(summary_data), \"Dataset Dimensions\")\n",
    "    show_table(df_analysis.dtypes.to_frame('data_type').reset_index(), \"Column Data Types\")\n",
    "\n",
    "    # EDA 2: Panel Structure Analysis\n",
    "    display(Markdown(\"### EDA 2: Panel Structure Analysis\"))\n",
    "    vendor_week_counts = df_analysis['vendor_id'].value_counts()\n",
    "    panel_structure = vendor_week_counts.value_counts().sort_index(ascending=False).to_frame('number_of_vendors')\n",
    "    panel_structure.index.name = 'weeks_of_data_per_vendor'\n",
    "    show_table(panel_structure.reset_index(), \"Distribution of Observations per Vendor\")\n",
    "    print(\"\\nInterpretation: This table shows how many vendors have data for a specific number of weeks.\")\n",
    "    print(\"A large number of vendors with few weeks of data can make estimating individual effects noisy.\")\n",
    "\n",
    "    # EDA 3: Distribution of Core Metrics\n",
    "    display(Markdown(\"### EDA 3: Distribution of Core Metrics\"))\n",
    "    show_table(df_analysis[['clicks', 'purchases', 'revenue_dollars']].describe().reset_index(), \n",
    "               \"Overall Distribution of Key Metrics\")\n",
    "    zero_revenue_pct = (df_analysis['revenue_dollars'] == 0).mean() * 100\n",
    "    print(f\"\\nZero-Revenue Observations: {zero_revenue_pct:.2f}% of the panel has zero weekly revenue.\")\n",
    "    df_positive_revenue = df_analysis[df_analysis['revenue_dollars'] > 0]\n",
    "    show_table(df_positive_revenue[['clicks', 'purchases', 'revenue_dollars']].describe().reset_index(),\n",
    "               \"Distribution for Positive-Revenue Weeks ONLY\")\n",
    "\n",
    "    # EDA 4: Platform-Wide Weekly Trends\n",
    "    display(Markdown(\"### EDA 4: Platform-Wide Weekly Trends\"))\n",
    "    weekly_summary = df_analysis.groupby('week').agg(\n",
    "        total_revenue=('revenue_dollars', 'sum'),\n",
    "        total_clicks=('clicks', 'sum'),\n",
    "        active_vendors=('vendor_id', 'nunique')\n",
    "    ).reset_index()\n",
    "    weekly_summary['total_revenue'] = weekly_summary['total_revenue'].apply(lambda x: f\"${x:,.0f}\")\n",
    "    weekly_summary['total_clicks'] = weekly_summary['total_clicks'].apply(lambda x: f\"{x:,}\")\n",
    "    weekly_summary['active_vendors'] = weekly_summary['active_vendors'].apply(lambda x: f\"{x:,}\")\n",
    "    show_table(weekly_summary.sort_values('week', ascending=False), \"Weekly Platform Aggregates\")\n",
    "    print(\"\\nInterpretation: Look for trends, seasonality, or sudden spikes/dips in platform activity.\")\n",
    "\n",
    "    # EDA 5: Correlation Analysis\n",
    "    display(Markdown(\"### EDA 5: Correlation Analysis\"))\n",
    "    corr_raw = df_analysis[['clicks', 'purchases', 'revenue_dollars']].corr()\n",
    "    show_table(corr_raw.reset_index(), \"Correlation Matrix (Raw Values)\")\n",
    "    corr_log = df_analysis[['log_clicks_plus_1', 'log_revenue_plus_1']].corr()\n",
    "    show_table(corr_log.reset_index(), \"Correlation Matrix (Log-Transformed Values)\")\n",
    "    print(\"\\nInterpretation: The log-transformed correlation is a better preview of the linear relationship your model will estimate.\")\n",
    "\n",
    "    # EDA 6: Top Vendor Summary\n",
    "    display(Markdown(\"### EDA 6: Top Vendor Analysis\"))\n",
    "    vendor_summary = df_analysis.groupby('vendor_id').agg(\n",
    "        total_revenue=('revenue_dollars', 'sum'),\n",
    "        total_clicks=('clicks', 'sum'),\n",
    "        weeks_active=('week', 'count')\n",
    "    ).nlargest(15, 'total_revenue').reset_index()\n",
    "    vendor_summary['total_revenue'] = vendor_summary['total_revenue'].apply(lambda x: f\"${x:,.0f}\")\n",
    "    vendor_summary['total_clicks'] = vendor_summary['total_clicks'].apply(lambda x: f\"{x:,}\")\n",
    "    show_table(vendor_summary, \"Top 15 Vendors by Total Revenue\")\n",
    "    print(\"\\nInterpretation: This shows if revenue is heavily concentrated among a few top vendors.\")\n",
    "\n",
    "else:\n",
    "    print(\"Could not perform EDA because the DataFrame is empty.\")"
   ]
  },
  {
   "cell_type": "markdown",
   "id": "b08e14d5",
   "metadata": {},
   "source": [
    "# avg effect of clicks on revenue"
   ]
  },
  {
   "cell_type": "code",
   "execution_count": 52,
   "id": "6476318c",
   "metadata": {},
   "outputs": [
    {
     "data": {
      "text/markdown": [
       "### 1. Data Loading and Validation (Full History Panel)"
      ],
      "text/plain": [
       "<IPython.core.display.Markdown object>"
      ]
     },
     "metadata": {},
     "output_type": "display_data"
    },
    {
     "name": "stdout",
     "output_type": "stream",
     "text": [
      "\n",
      "--- Loading panel data from 'vendor_panel_full_history_clicks_only.parquet' ---\n",
      "✅ Loaded, converted, and prepared panel with 979,290 rows.\n"
     ]
    },
    {
     "data": {
      "text/markdown": [
       "---"
      ],
      "text/plain": [
       "<IPython.core.display.Markdown object>"
      ]
     },
     "metadata": {},
     "output_type": "display_data"
    },
    {
     "data": {
      "text/markdown": [
       "### 2. Main Model: Two-Way Fixed Effects (Log-Log)"
      ],
      "text/plain": [
       "<IPython.core.display.Markdown object>"
      ]
     },
     "metadata": {},
     "output_type": "display_data"
    },
    {
     "data": {
      "text/markdown": [
       "This model estimates the *average* elasticity across all vendors on the full historical dataset."
      ],
      "text/plain": [
       "<IPython.core.display.Markdown object>"
      ]
     },
     "metadata": {},
     "output_type": "display_data"
    },
    {
     "name": "stdout",
     "output_type": "stream",
     "text": [
      "\n",
      "Estimating Average Effect: log(revenue+1) ~ log(clicks+1) | vendor_id + week\n",
      "                          model_main\n",
      "Dependent Var.:   log_revenue_plus_1\n",
      "                                    \n",
      "log_clicks_plus_1 0.6422*** (0.0028)\n",
      "Fixed-Effects:    ------------------\n",
      "vendor_id                        Yes\n",
      "week                             Yes\n",
      "_________________ __________________\n",
      "S.E.: Clustered        by: vendor_id\n",
      "Observations                 979,290\n",
      "R2                           0.55737\n",
      "Within R2                    0.07340\n",
      "---\n",
      "Signif. codes: 0 '***' 0.001 '**' 0.01 '*' 0.05 '.' 0.1 ' ' 1\n"
     ]
    },
    {
     "data": {
      "text/markdown": [
       "✅ Average effect model completed successfully."
      ],
      "text/plain": [
       "<IPython.core.display.Markdown object>"
      ]
     },
     "metadata": {},
     "output_type": "display_data"
    }
   ],
   "source": [
    "import pandas as pd\n",
    "import numpy as np\n",
    "import os\n",
    "from IPython.display import display, Markdown\n",
    "\n",
    "# --- 1. Set up rpy2 Environment for fixest ---\n",
    "# (Assuming setup is complete and successful)\n",
    "if not rpy2_setup_failed:\n",
    "    # --- 2. Load and Prepare the Full-History Panel Data ---\n",
    "    parquet_filename = 'vendor_panel_full_history_clicks_only.parquet'\n",
    "    try:\n",
    "        display(Markdown(\"### 1. Data Loading and Validation (Full History Panel)\"))\n",
    "        print(f\"\\n--- Loading panel data from '{parquet_filename}' ---\")\n",
    "        df_analysis = pd.read_parquet(parquet_filename)\n",
    "        \n",
    "        # =======================================================================\n",
    "        # THE FIX: Convert Decimal and other numeric types to standard floats/integers\n",
    "        # that NumPy and R can work with seamlessly.\n",
    "        # =======================================================================\n",
    "        df_analysis['revenue_dollars'] = df_analysis['revenue_dollars'].astype(float)\n",
    "        df_analysis['clicks'] = df_analysis['clicks'].astype(int)\n",
    "        df_analysis['purchases'] = df_analysis['purchases'].astype(int)\n",
    "        \n",
    "        # Prepare log-transformed variables\n",
    "        df_analysis['log_revenue_plus_1'] = np.log1p(df_analysis['revenue_dollars'])\n",
    "        df_analysis['log_clicks_plus_1'] = np.log1p(df_analysis['clicks'])\n",
    "        \n",
    "        print(f\"✅ Loaded, converted, and prepared panel with {len(df_analysis):,} rows.\")\n",
    "\n",
    "    except Exception as e:\n",
    "        print(f\"ERROR during data loading: {e}\")\n",
    "        df_analysis = pd.DataFrame()\n",
    "\n",
    "    if not df_analysis.empty:\n",
    "        # --- 3. Run the Main Fixed-Effects Model ---\n",
    "        try:\n",
    "            display(Markdown(\"---\"))\n",
    "            display(Markdown(\"### 2. Main Model: Two-Way Fixed Effects (Log-Log)\"))\n",
    "            display(Markdown(\"This model estimates the *average* elasticity across all vendors on the full historical dataset.\"))\n",
    "            \n",
    "            with localconverter(ro.default_converter + pandas2ri.converter):\n",
    "                ro.globalenv['df_for_r_full'] = pandas2ri.py2rpy(df_analysis)\n",
    "\n",
    "            print(\"\\nEstimating Average Effect: log(revenue+1) ~ log(clicks+1) | vendor_id + week\")\n",
    "            ro.r(\"\"\"\n",
    "            library(fixest)\n",
    "            df_panel_full <- df_for_r_full\n",
    "            \n",
    "            model_main <- feols(log_revenue_plus_1 ~ log_clicks_plus_1 | vendor_id + week, \n",
    "                                data = df_panel_full, \n",
    "                                vcov = ~vendor_id)\n",
    "            \n",
    "            print(etable(model_main, digits = 4))\n",
    "            \"\"\")\n",
    "            \n",
    "            display(Markdown(\"✅ Average effect model completed successfully.\"))\n",
    "\n",
    "        except Exception as e:\n",
    "            print(f\"\\nERROR running the fixest model in R: {e}\")"
   ]
  },
  {
   "cell_type": "markdown",
   "id": "dc057021",
   "metadata": {},
   "source": [
    "## iROAS"
   ]
  },
  {
   "cell_type": "code",
   "execution_count": 58,
   "id": "c644ce40",
   "metadata": {},
   "outputs": [
    {
     "data": {
      "text/markdown": [
       "### 5. Sensitivity Analysis: iROAS vs. Cost Per Click (CPC)"
      ],
      "text/plain": [
       "<IPython.core.display.Markdown object>"
      ]
     },
     "metadata": {},
     "output_type": "display_data"
    },
    {
     "data": {
      "image/png": "[encoded data removed]",
      "text/plain": [
       "<Figure size 1200x700 with 1 Axes>"
      ]
     },
     "metadata": {},
     "output_type": "display_data"
    }
   ],
   "source": [
    "import pandas as pd\n",
    "import numpy as np\n",
    "import matplotlib.pyplot as plt\n",
    "import seaborn as sns\n",
    "from IPython.display import display, Markdown\n",
    "\n",
    "# --- 1. Define Your Model Input ---\n",
    "\n",
    "# Your elasticity coefficient from the full-history fixest model\n",
    "beta_elasticity = 0.6422\n",
    "\n",
    "# --- 2. Load Your Data to Calculate the Marginal Revenue per Click ---\n",
    "try:\n",
    "    display(Markdown(\"### 5. Sensitivity Analysis: iROAS vs. Cost Per Click (CPC)\"))\n",
    "    \n",
    "    parquet_filename = 'vendor_panel_full_history_clicks_only.parquet'\n",
    "    df_full = pd.read_parquet(parquet_filename)\n",
    "\n",
    "    # Convert columns to standard numeric types\n",
    "    df_full['revenue_dollars'] = df_full['revenue_dollars'].astype(float)\n",
    "    df_full['clicks'] = df_full['clicks'].astype(int)\n",
    "\n",
    "    # Calculate platform-wide totals\n",
    "    total_revenue = df_full['revenue_dollars'].sum()\n",
    "    total_clicks = df_full['clicks'].sum()\n",
    "    \n",
    "    # Calculate the average revenue generated per click\n",
    "    avg_revenue_per_click = total_revenue / total_clicks\n",
    "    \n",
    "    # This is the key intermediate value: Incremental Revenue from one more click\n",
    "    marginal_revenue_per_click = beta_elasticity * avg_revenue_per_click\n",
    "\n",
    "    # --- 3. Generate Data for the Plot ---\n",
    "    \n",
    "    # Create a range of plausible CPCs to test, from $0.10 to $2.00\n",
    "    cpc_range = np.linspace(0.10, 2.00, 200)\n",
    "    \n",
    "    # Calculate iROAS for each CPC in the range using the formula\n",
    "    # iROAS = Marginal Revenue per Click / CPC\n",
    "    iroas_values = marginal_revenue_per_click / cpc_range\n",
    "\n",
    "    # --- 4. Create the Plot ---\n",
    "    plt.figure(figsize=(12, 7))\n",
    "    sns.set_style(\"whitegrid\")\n",
    "    \n",
    "    # Plot the main iROAS curve\n",
    "    sns.lineplot(x=cpc_range, y=iroas_values, label='iROAS Curve')\n",
    "    \n",
    "    # Add a critical reference line at iROAS = $1.00 (the breakeven point)\n",
    "    plt.axhline(1.0, color='red', linestyle='--', label='Breakeven Point (iROAS = $1.00)')\n",
    "    \n",
    "    # --- Annotate Key Points ---\n",
    "    # Find the breakeven CPC (where iROAS = 1.0)\n",
    "    # 1.0 = marginal_revenue_per_click / breakeven_cpc  =>  breakeven_cpc = marginal_revenue_per_click\n",
    "    breakeven_cpc = marginal_revenue_per_click\n",
    "    plt.axvline(breakeven_cpc, color='green', linestyle=':', label=f'Breakeven CPC = ${breakeven_cpc:.2f}')\n",
    "    \n",
    "    # Annotate the previous single-point estimate\n",
    "    previous_cpc = 0.25\n",
    "    previous_iroas = marginal_revenue_per_click / previous_cpc\n",
    "    plt.plot(previous_cpc, previous_iroas, 'ro', markersize=8, label=f'Previous Estimate (iROAS=${previous_iroas:.2f})')\n",
    "    \n",
    "    # --- Final Plot Formatting ---\n",
    "    plt.title('iROAS Sensitivity to Average Cost Per Click (CPC)', fontsize=16)\n",
    "    plt.xlabel('Assumed Average Cost Per Click ($)', fontsize=12)\n",
    "    plt.ylabel('Calculated Incremental ROAS ($)', fontsize=12)\n",
    "    plt.legend()\n",
    "    plt.xlim(0, 2.0)\n",
    "    plt.ylim(0) # Start y-axis at 0\n",
    "    \n",
    "    # Add explanatory text on the plot\n",
    "    plt.text(1.2, 1.1, 'Profitable Zone\\n(iROAS > $1.00)', color='green', fontsize=12, ha='left')\n",
    "    plt.text(1.2, 0.9, 'Unprofitable Zone\\n(iROAS < $1.00)', color='red', fontsize=12, ha='left')\n",
    "    \n",
    "    plt.show()\n",
    "\n",
    "except FileNotFoundError:\n",
    "    print(f\"ERROR: Data file '{parquet_filename}' not found.\")\n",
    "except Exception as e:\n",
    "    print(f\"An error occurred: {e}\")"
   ]
  },
  {
   "cell_type": "markdown",
   "id": "641e37f3",
   "metadata": {},
   "source": [
    "# vendor level effects"
   ]
  },
  {
   "cell_type": "code",
   "execution_count": 60,
   "id": "50724b1f",
   "metadata": {},
   "outputs": [
    {
     "name": "stdout",
     "output_type": "stream",
     "text": [
      "\n",
      "✅ Using a clean subset of 969,558 rows for the mixed-effects model.\n",
      "✅ Scaled 'log_clicks' to have mean=0, std=1 to improve model stability.\n"
     ]
    },
    {
     "data": {
      "text/markdown": [
       "---"
      ],
      "text/plain": [
       "<IPython.core.display.Markdown object>"
      ]
     },
     "metadata": {},
     "output_type": "display_data"
    },
    {
     "data": {
      "text/markdown": [
       "### 3. Improved Heterogeneity Model (`lme4`) on Full History"
      ],
      "text/plain": [
       "<IPython.core.display.Markdown object>"
      ]
     },
     "metadata": {},
     "output_type": "display_data"
    },
    {
     "data": {
      "text/markdown": [
       "Applying best practices: rescaling predictors and using a more robust optimizer to ensure model convergence."
      ],
      "text/plain": [
       "<IPython.core.display.Markdown object>"
      ]
     },
     "metadata": {},
     "output_type": "display_data"
    },
    {
     "name": "stdout",
     "output_type": "stream",
     "text": [
      "\n",
      "Estimating Improved Mixed-Effects Model with `lme4`...\n"
     ]
    },
    {
     "data": {
      "text/markdown": [
       "#### Regularized Distribution of Vendor-Specific Click Elasticities (βv)"
      ],
      "text/plain": [
       "<IPython.core.display.Markdown object>"
      ]
     },
     "metadata": {},
     "output_type": "display_data"
    },
    {
     "name": "stdout",
     "output_type": "stream",
     "text": [
      "\n",
      "--- Summary Statistics of Regularized Vendor Slopes (βv) from Improved `lme4` Model ---\n",
      "\n",
      "Summary of Regularized βv Distribution\n",
      "======================================\n",
      "+-------------+----------+\n",
      "| Statistic   |    value |\n",
      "+=============+==========+\n",
      "| Min.        | 0.194223 |\n",
      "+-------------+----------+\n",
      "| 1st Qu.     | 0.748671 |\n",
      "+-------------+----------+\n",
      "| Median      | 0.778834 |\n",
      "+-------------+----------+\n",
      "| Mean        | 0.772127 |\n",
      "+-------------+----------+\n",
      "| 3rd Qu.     | 0.799461 |\n",
      "+-------------+----------+\n",
      "| Max.        | 1.26515  |\n",
      "+-------------+----------+\n"
     ]
    },
    {
     "data": {
      "text/markdown": [
       "✅ Heterogeneity analysis completed successfully with a stable model."
      ],
      "text/plain": [
       "<IPython.core.display.Markdown object>"
      ]
     },
     "metadata": {},
     "output_type": "display_data"
    },
    {
     "name": "stdout",
     "output_type": "stream",
     "text": [
      "\n",
      "--- Analysis completed ---\n"
     ]
    }
   ],
   "source": [
    "import pandas as pd\n",
    "import numpy as np\n",
    "import os\n",
    "from IPython.display import display, Markdown\n",
    "\n",
    "# --- 1. Set up rpy2 Environment for lme4 ---\n",
    "# (Assuming setup is complete and successful)\n",
    "if not rpy2_setup_failed:\n",
    "    # --- 2. Load and Prepare Data (if not already in memory) ---\n",
    "    if 'df_analysis' not in locals():\n",
    "        parquet_filename = 'vendor_panel_full_history_clicks_only.parquet'\n",
    "        print(f\"\\n--- Loading panel data from '{parquet_filename}' ---\")\n",
    "        df_analysis = pd.read_parquet(parquet_filename)\n",
    "        # Convert types immediately after loading\n",
    "        df_analysis['revenue_dollars'] = df_analysis['revenue_dollars'].astype(float)\n",
    "        df_analysis['clicks'] = df_analysis['clicks'].astype(int)\n",
    "        df_analysis['log_revenue_plus_1'] = np.log1p(df_analysis['revenue_dollars'])\n",
    "        df_analysis['log_clicks_plus_1'] = np.log1p(df_analysis['clicks'])\n",
    "        print(f\"✅ Data loaded and converted successfully.\")\n",
    "\n",
    "    # --- Data Cleaning and Feature Engineering for a Stable Model ---\n",
    "    vendor_counts = df_analysis['vendor_id'].value_counts()\n",
    "    vendors_with_enough_data = vendor_counts[vendor_counts > 1].index\n",
    "    df_clean = df_analysis[df_analysis['vendor_id'].isin(vendors_with_enough_data)].copy() # Use .copy() to avoid SettingWithCopyWarning\n",
    "    \n",
    "    # =================================================================================\n",
    "    # FIX #1: Rescale the continuous predictor (log_clicks_plus_1)\n",
    "    # This directly addresses the \"very large eigenvalue\" warning.\n",
    "    # =================================================================================\n",
    "    mean_log_clicks = df_clean['log_clicks_plus_1'].mean()\n",
    "    std_log_clicks = df_clean['log_clicks_plus_1'].std()\n",
    "    df_clean['log_clicks_scaled'] = (df_clean['log_clicks_plus_1'] - mean_log_clicks) / std_log_clicks\n",
    "    \n",
    "    print(f\"\\n✅ Using a clean subset of {len(df_clean):,} rows for the mixed-effects model.\")\n",
    "    print(f\"✅ Scaled 'log_clicks' to have mean=0, std=1 to improve model stability.\")\n",
    "\n",
    "    if not df_clean.empty:\n",
    "        # --- 3. Run the Improved lme4 Model for Heterogeneity ---\n",
    "        try:\n",
    "            display(Markdown(\"---\"))\n",
    "            display(Markdown(\"### 3. Improved Heterogeneity Model (`lme4`) on Full History\"))\n",
    "            display(Markdown(\"Applying best practices: rescaling predictors and using a more robust optimizer to ensure model convergence.\"))\n",
    "            \n",
    "            with localconverter(ro.default_converter + pandas2ri.converter):\n",
    "                ro.globalenv['df_for_r_clean'] = pandas2ri.py2rpy(df_clean)\n",
    "\n",
    "            print(\"\\nEstimating Improved Mixed-Effects Model with `lme4`...\")\n",
    "            ro.r(\"\"\"\n",
    "            library(lme4)\n",
    "            \n",
    "            # =================================================================================\n",
    "            # FIX #2 & #3: Use a more robust optimizer and simplify the random effects.\n",
    "            # `(log_clicks_scaled || vendor_id)` fits random intercepts and slopes but assumes\n",
    "            # they are uncorrelated, which is a simpler, more stable structure.\n",
    "            # `optimizer=\"bobyqa\"` is a robust choice for complex models.\n",
    "            # =================================================================================\n",
    "            lmer_model_stable <- lmer(\n",
    "              log_revenue_plus_1 ~ log_clicks_scaled + (log_clicks_scaled || vendor_id) + (1 | week),\n",
    "              data = df_for_r_clean,\n",
    "              control = lmerControl(optimizer = \"bobyqa\", optCtrl = list(maxfun = 2e5))\n",
    "            )\n",
    "            \n",
    "            # Extract coefficients. Note they are for the SCALED clicks variable now.\n",
    "            vendor_coefs <- coef(lmer_model_stable)$vendor_id\n",
    "            beta_v_scaled_regularized <- vendor_coefs[, \"log_clicks_scaled\"]\n",
    "            \n",
    "            # To make the slopes interpretable, we must un-scale them back to the original units.\n",
    "            # Unscaling formula: beta_original = beta_scaled / std_dev\n",
    "            beta_v_unscaled <- beta_v_scaled_regularized / sd(df_for_r_clean$log_clicks_plus_1)\n",
    "            \n",
    "            beta_v_summary <- summary(beta_v_unscaled)\n",
    "            \"\"\")\n",
    "            \n",
    "            # --- Display the results as a clean table ---\n",
    "            display(Markdown(\"#### Regularized Distribution of Vendor-Specific Click Elasticities (βv)\"))\n",
    "            print(\"\\n--- Summary Statistics of Regularized Vendor Slopes (βv) from Improved `lme4` Model ---\")\n",
    "            \n",
    "            beta_v_summary_r = ro.r('beta_v_summary')\n",
    "            summary_dict = {\n",
    "                'Min.': [beta_v_summary_r[0]], '1st Qu.': [beta_v_summary_r[1]],\n",
    "                'Median': [beta_v_summary_r[2]], 'Mean': [beta_v_summary_r[3]],\n",
    "                '3rd Qu.': [beta_v_summary_r[4]], 'Max.': [beta_v_summary_r[5]]\n",
    "            }\n",
    "            summary_df = pd.DataFrame.from_dict(summary_dict, orient='index', columns=['value'])\n",
    "            show_table(summary_df.reset_index().rename(columns={'index': 'Statistic'}), \"Summary of Regularized βv Distribution\")\n",
    "            \n",
    "            display(Markdown(\"✅ Heterogeneity analysis completed successfully with a stable model.\"))\n",
    "\n",
    "        except Exception as e:\n",
    "            print(f\"\\nERROR running the lme4 model in R: {e}\")\n",
    "\n",
    "        print(\"\\n--- Analysis completed ---\")"
   ]
  },
  {
   "cell_type": "code",
   "execution_count": 62,
   "id": "0d18ecd2",
   "metadata": {},
   "outputs": [
    {
     "name": "stdout",
     "output_type": "stream",
     "text": [
      "\n",
      "--- Loading and preparing panel data from 'vendor_panel_full_history_clicks_only.parquet' ---\n",
      "✅ Data loaded and prepared for 969,558 rows.\n"
     ]
    },
    {
     "data": {
      "text/markdown": [
       "### 1. Estimating Regularized Vendor Elasticities (βv)"
      ],
      "text/plain": [
       "<IPython.core.display.Markdown object>"
      ]
     },
     "metadata": {},
     "output_type": "display_data"
    },
    {
     "name": "stdout",
     "output_type": "stream",
     "text": [
      "\n",
      "Estimating Improved Mixed-Effects Model with `lme4`... (This may take several minutes)\n",
      "✅ Model estimation complete.\n"
     ]
    },
    {
     "data": {
      "text/markdown": [
       "### 2. Calculating Vendor-Specific iROAS (iROASv)"
      ],
      "text/plain": [
       "<IPython.core.display.Markdown object>"
      ]
     },
     "metadata": {},
     "output_type": "display_data"
    },
    {
     "name": "stdout",
     "output_type": "stream",
     "text": [
      "\n",
      "Assuming a platform-wide average CPC of $0.20\n",
      "✅ Vendor-specific iROAS calculated.\n"
     ]
    },
    {
     "data": {
      "text/markdown": [
       "### 3. Visualizing the Full Distributions"
      ],
      "text/plain": [
       "<IPython.core.display.Markdown object>"
      ]
     },
     "metadata": {},
     "output_type": "display_data"
    },
    {
     "data": {
      "image/png": "[encoded data removed]",
      "text/plain": [
       "<Figure size 1800x700 with 2 Axes>"
      ]
     },
     "metadata": {},
     "output_type": "display_data"
    },
    {
     "name": "stdout",
     "output_type": "stream",
     "text": [
      "\n",
      "--- Analysis completed ---\n"
     ]
    }
   ],
   "source": [
    "import pandas as pd\n",
    "import numpy as np\n",
    "import os\n",
    "import matplotlib.pyplot as plt\n",
    "import seaborn as sns\n",
    "from IPython.display import display, Markdown\n",
    "\n",
    "# --- 1. Set up rpy2 Environment for lme4 ---\n",
    "# (Assuming setup is complete and successful)\n",
    "if not rpy2_setup_failed:\n",
    "    # --- 2. Load and Prepare Data (if not already in memory) ---\n",
    "    if 'df_analysis' not in locals() or 'log_clicks_scaled' not in df_analysis.columns:\n",
    "        parquet_filename = 'vendor_panel_full_history_clicks_only.parquet'\n",
    "        print(f\"\\n--- Loading and preparing panel data from '{parquet_filename}' ---\")\n",
    "        df_analysis = pd.read_parquet(parquet_filename)\n",
    "        \n",
    "        # Convert types and create log variables\n",
    "        df_analysis['revenue_dollars'] = df_analysis['revenue_dollars'].astype(float)\n",
    "        df_analysis['clicks'] = df_analysis['clicks'].astype(int)\n",
    "        df_analysis['log_revenue_plus_1'] = np.log1p(df_analysis['revenue_dollars'])\n",
    "        df_analysis['log_clicks_plus_1'] = np.log1p(df_analysis['clicks'])\n",
    "\n",
    "        # Data Cleaning for Mixed-Effects Models\n",
    "        vendor_counts = df_analysis['vendor_id'].value_counts()\n",
    "        vendors_with_enough_data = vendor_counts[vendor_counts > 1].index\n",
    "        df_clean = df_analysis[df_analysis['vendor_id'].isin(vendors_with_enough_data)].copy()\n",
    "        \n",
    "        # Rescale the continuous predictor for model stability\n",
    "        mean_log_clicks = df_clean['log_clicks_plus_1'].mean()\n",
    "        std_log_clicks = df_clean['log_clicks_plus_1'].std()\n",
    "        df_clean['log_clicks_scaled'] = (df_clean['log_clicks_plus_1'] - mean_log_clicks) / std_log_clicks\n",
    "        \n",
    "        print(f\"✅ Data loaded and prepared for {len(df_clean):,} rows.\")\n",
    "\n",
    "    if not df_clean.empty:\n",
    "        # --- 3. Run the Improved lme4 Model for Heterogeneity ---\n",
    "        try:\n",
    "            display(Markdown(\"### 1. Estimating Regularized Vendor Elasticities (βv)\"))\n",
    "            \n",
    "            with localconverter(ro.default_converter + pandas2ri.converter):\n",
    "                ro.globalenv['df_for_r_clean'] = pandas2ri.py2rpy(df_clean)\n",
    "\n",
    "            print(\"\\nEstimating Improved Mixed-Effects Model with `lme4`... (This may take several minutes)\")\n",
    "            ro.r(\"\"\"\n",
    "            library(lme4)\n",
    "            \n",
    "            # Fit the stable model with a robust optimizer\n",
    "            lmer_model_stable <- lmer(\n",
    "              log_revenue_plus_1 ~ log_clicks_scaled + (log_clicks_scaled || vendor_id) + (1 | week),\n",
    "              data = df_for_r_clean,\n",
    "              control = lmerControl(optimizer = \"bobyqa\", optCtrl = list(maxfun = 2e5))\n",
    "            )\n",
    "            \n",
    "            # Extract scaled coefficients\n",
    "            vendor_coefs <- coef(lmer_model_stable)$vendor_id\n",
    "            beta_v_scaled_regularized <- vendor_coefs[, \"log_clicks_scaled\"]\n",
    "            \n",
    "            # Un-scale them to get the true, interpretable elasticities\n",
    "            beta_v_unscaled <- beta_v_scaled_regularized / sd(df_for_r_clean$log_clicks_plus_1)\n",
    "            \n",
    "            beta_v_df <- data.frame(\n",
    "              vendor_id = rownames(vendor_coefs),\n",
    "              vendor_slope_beta_v = as.numeric(beta_v_unscaled)\n",
    "            )\n",
    "            \"\"\")\n",
    "            \n",
    "            # Convert the final slopes back to a pandas DataFrame\n",
    "            with localconverter(ro.default_converter + pandas2ri.converter):\n",
    "                beta_v_df = ro.r('beta_v_df')\n",
    "            print(\"✅ Model estimation complete.\")\n",
    "\n",
    "            # --- 4. Calculate Vendor-Specific iROAS ---\n",
    "            display(Markdown(\"### 2. Calculating Vendor-Specific iROAS (iROASv)\"))\n",
    "\n",
    "            # Assume a platform-wide average CPC\n",
    "            assumed_cpc = 0.2\n",
    "            print(f\"\\nAssuming a platform-wide average CPC of ${assumed_cpc:.2f}\")\n",
    "\n",
    "            # Calculate each vendor's average revenue per click\n",
    "            vendor_metrics = df_clean.groupby('vendor_id').agg(\n",
    "                total_revenue=('revenue_dollars', 'sum'),\n",
    "                total_clicks=('clicks', 'sum')\n",
    "            ).reset_index()\n",
    "            vendor_metrics['avg_rev_per_click'] = vendor_metrics['total_revenue'] / vendor_metrics['total_clicks']\n",
    "            vendor_metrics = vendor_metrics.replace([np.inf, -np.inf], 0).fillna(0) # Handle division by zero\n",
    "\n",
    "            # Merge the elasticities (βv) with the business metrics\n",
    "            df_results = pd.merge(beta_v_df, vendor_metrics, on='vendor_id', how='inner')\n",
    "\n",
    "            # Calculate iROAS for each vendor\n",
    "            df_results['iroas_v'] = (df_results['vendor_slope_beta_v'] * df_results['avg_rev_per_click']) / assumed_cpc\n",
    "            print(\"✅ Vendor-specific iROAS calculated.\")\n",
    "\n",
    "            # --- 5. Visualize the Full Distributions ---\n",
    "            display(Markdown(\"### 3. Visualizing the Full Distributions\"))\n",
    "\n",
    "            # For visualization, it's helpful to trim extreme iROAS outliers\n",
    "            # to focus on the core distribution.\n",
    "            lower_bound = df_results['iroas_v'].quantile(0.01)\n",
    "            upper_bound = df_results['iroas_v'].quantile(0.99)\n",
    "            df_trimmed = df_results[df_results['iroas_v'].between(lower_bound, upper_bound)]\n",
    "            \n",
    "            fig, axes = plt.subplots(1, 2, figsize=(18, 7))\n",
    "\n",
    "            # Plot 1: Distribution of Vendor Elasticities (βv)\n",
    "            sns.kdeplot(data=df_results, x='vendor_slope_beta_v', fill=True, ax=axes[0])\n",
    "            mean_beta = df_results['vendor_slope_beta_v'].mean()\n",
    "            axes[0].axvline(mean_beta, color='red', linestyle='--', label=f'Mean Elasticity = {mean_beta:.3f}')\n",
    "            axes[0].set_title('Distribution of Regularized Vendor Elasticities (βv)', fontsize=16)\n",
    "            axes[0].set_xlabel('Click Elasticity (βv)')\n",
    "            axes[0].legend()\n",
    "\n",
    "            # Plot 2: Distribution of Vendor iROAS (iROASv)\n",
    "            sns.kdeplot(data=df_trimmed, x='iroas_v', fill=True, ax=axes[1], color='green')\n",
    "            axes[1].axvline(1.0, color='red', linestyle='--', label='Breakeven Point (iROAS = $1.00)')\n",
    "            profitable_vendors_pct = (df_results['iroas_v'] > 1.0).mean() * 100\n",
    "            axes[1].set_title('Distribution of Regularized Vendor iROAS (iROASv)', fontsize=16)\n",
    "            axes[1].set_xlabel(f'Incremental ROAS ($) (Trimmed to 99th percentile: ${upper_bound:.2f})')\n",
    "            axes[1].legend()\n",
    "            \n",
    "            # Add annotation\n",
    "            axes[1].text(0.95, 0.95, f'{profitable_vendors_pct:.1f}% of vendors\\nare profitable (iROAS > 1)', \n",
    "                         transform=axes[1].transAxes, fontsize=12, verticalalignment='top', horizontalalignment='right',\n",
    "                         bbox=dict(boxstyle='round,pad=0.5', fc='wheat', alpha=0.5))\n",
    "\n",
    "            plt.tight_layout()\n",
    "            plt.show()\n",
    "\n",
    "        except Exception as e:\n",
    "            print(f\"\\nERROR running the analysis pipeline in R: {e}\")\n",
    "\n",
    "        print(\"\\n--- Analysis completed ---\")"
   ]
  },
  {
   "cell_type": "markdown",
   "id": "c2ec022e",
   "metadata": {},
   "source": [
    "# hill curves"
   ]
  },
  {
   "cell_type": "code",
   "execution_count": 65,
   "id": "0457efa1",
   "metadata": {},
   "outputs": [
    {
     "name": "stdout",
     "output_type": "stream",
     "text": [
      "\n",
      "✅ Using a clean sample of 2,696 rows from 200 vendors for the Bayesian S-curve model.\n"
     ]
    },
    {
     "data": {
      "text/markdown": [
       "### 4. Advanced Model: Hierarchical S-Curves with `brms`"
      ],
      "text/plain": [
       "<IPython.core.display.Markdown object>"
      ]
     },
     "metadata": {},
     "output_type": "display_data"
    },
    {
     "data": {
      "text/markdown": [
       "This model estimates a unique, regularized S-curve of diminishing returns for each vendor."
      ],
      "text/plain": [
       "<IPython.core.display.Markdown object>"
      ]
     },
     "metadata": {},
     "output_type": "display_data"
    },
    {
     "name": "stdout",
     "output_type": "stream",
     "text": [
      "\n",
      "Estimating Bayesian S-Curve Model. This is computationally intensive and will take significant time...\n"
     ]
    },
    {
     "name": "stderr",
     "output_type": "stream",
     "text": [
      "R callback write-console: Error in dimnames(x) <- dn : \n",
      "  length of 'dimnames' [2] not equal to array extent\n",
      "  \n",
      "R callback write-console: In addition:   \n",
      "R callback write-console: Warning messages:\n",
      "  \n",
      "R callback write-console: 1: There were 788 divergent transitions after warmup. See\n",
      "https://mc-stan.org/misc/warnings.html#divergent-transitions-after-warmup\n",
      "to find out why this is a problem and how to eliminate them. \n",
      "  \n",
      "R callback write-console: 2: Examine the pairs() plot to diagnose sampling problems\n",
      " \n",
      "  \n",
      "R callback write-console: 3: The largest R-hat is 2.15, indicating chains have not mixed.\n",
      "Running the chains for more iterations may help. See\n",
      "https://mc-stan.org/misc/warnings.html#r-hat \n",
      "  \n",
      "R callback write-console: 4: Bulk Effective Samples Size (ESS) is too low, indicating posterior means and medians may be unreliable.\n",
      "Running the chains for more iterations may help. See\n",
      "https://mc-stan.org/misc/warnings.html#bulk-ess \n",
      "  \n",
      "R callback write-console: 5: Tail Effective Samples Size (ESS) is too low, indicating posterior variances and tail quantiles may be unreliable.\n",
      "Running the chains for more iterations may help. See\n",
      "https://mc-stan.org/misc/warnings.html#tail-ess \n",
      "  \n"
     ]
    },
    {
     "name": "stdout",
     "output_type": "stream",
     "text": [
      "\n",
      "ERROR running the Bayesian S-curve model in R: Error in dimnames(x) <- dn : \n",
      "  length of 'dimnames' [2] not equal to array extent\n",
      "\n"
     ]
    }
   ],
   "source": [
    "import pandas as pd\n",
    "import numpy as np\n",
    "import os\n",
    "from IPython.display import display, Markdown\n",
    "\n",
    "# --- 1. Set up rpy2 Environment and Install brms ---\n",
    "# (Assuming setup is complete)\n",
    "if not rpy2_setup_failed:\n",
    "    # --- 2. Load and Prepare Data for Nonlinear Model ---\n",
    "    if 'df_analysis' not in locals():\n",
    "        parquet_filename = 'vendor_panel_full_history_clicks_only.parquet'\n",
    "        print(f\"\\n--- Loading panel data from '{parquet_filename}' ---\")\n",
    "        df_analysis = pd.read_parquet(parquet_filename)\n",
    "        # IMPORTANT: For nonlinear models, we work with the original dollar/click counts, not logs.\n",
    "        df_analysis['revenue_dollars'] = df_analysis['revenue_dollars'].astype(float)\n",
    "        df_analysis['clicks'] = df_analysis['clicks'].astype(int)\n",
    "        print(f\"✅ Data loaded successfully.\")\n",
    "\n",
    "    # --- Prepare a sample for the Bayesian model ---\n",
    "    vendor_counts = df_analysis['vendor_id'].value_counts()\n",
    "    vendors_with_enough_data = vendor_counts[vendor_counts > 4].index # Need more data for nonlinear\n",
    "    df_clean = df_analysis[df_analysis['vendor_id'].isin(vendors_with_enough_data)]\n",
    "    \n",
    "    all_vendors = df_clean['vendor_id'].unique()\n",
    "    sample_vendors = np.random.choice(all_vendors, size=min(200, len(all_vendors)), replace=False) # Smaller sample\n",
    "    df_bayesian_sample = df_clean[df_clean['vendor_id'].isin(sample_vendors)]\n",
    "    \n",
    "    print(f\"\\n✅ Using a clean sample of {len(df_bayesian_sample):,} rows from {len(sample_vendors)} vendors for the Bayesian S-curve model.\")\n",
    "\n",
    "    if not df_bayesian_sample.empty:\n",
    "        # --- 3. Run the Bayesian Hierarchical S-Curve Model ---\n",
    "        try:\n",
    "            display(Markdown(\"### 4. Advanced Model: Hierarchical S-Curves with `brms`\"))\n",
    "            display(Markdown(\"This model estimates a unique, regularized S-curve of diminishing returns for each vendor.\"))\n",
    "            \n",
    "            with localconverter(ro.default_converter + pandas2ri.converter):\n",
    "                ro.globalenv['df_bayesian_sample_r'] = pandas2ri.py2rpy(df_bayesian_sample)\n",
    "\n",
    "            print(\"\\nEstimating Bayesian S-Curve Model. This is computationally intensive and will take significant time...\")\n",
    "            ro.r(\"\"\"\n",
    "            library(brms)\n",
    "            \n",
    "            # Define the nonlinear Hill function and hierarchical priors\n",
    "            hill_formula <- bf(\n",
    "                revenue_dollars ~ max * clicks^slope / (ec50^slope + clicks^slope),\n",
    "                max ~ 1 + (1 | vendor_id),\n",
    "                slope ~ 1 + (1 | vendor_id),\n",
    "                ec50 ~ 1 + (1 | vendor_id),\n",
    "                nl = TRUE\n",
    "            )\n",
    "            \n",
    "            # Priors are ESSENTIAL for nonlinear models to converge.\n",
    "            # These are weakly informative priors based on the data scale.\n",
    "            hill_priors <- c(\n",
    "                prior(normal(100, 50), nlpar = \"max\", lb=0),\n",
    "                prior(normal(1.5, 0.5), nlpar = \"slope\", lb=0),\n",
    "                prior(normal(200, 100), nlpar = \"ec50\", lb=0),\n",
    "                prior(exponential(0.1), class = \"sd\", nlpar = \"max\"),\n",
    "                prior(exponential(1), class = \"sd\", nlpar = \"slope\"),\n",
    "                prior(exponential(0.01), class = \"sd\", nlpar = \"ec50\")\n",
    "            )\n",
    "            \n",
    "            s_curve_model <- brm(\n",
    "              formula = hill_formula,\n",
    "              data = df_bayesian_sample_r,\n",
    "              family = gaussian(link = \"log\"), # Use log link as revenue > 0\n",
    "              prior = hill_priors,\n",
    "              chains = 2, iter = 1500, warmup = 750, cores = 2, # Reduced for speed\n",
    "              control = list(adapt_delta = 0.95),\n",
    "              seed = 42,\n",
    "              silent = 2, refresh = 0\n",
    "            )\n",
    "            \n",
    "            # Extract the vendor-specific parameters\n",
    "            vendor_params <- coef(s_curve_model, robust=TRUE)$vendor_id\n",
    "            \n",
    "            # Rename columns for clarity before sending to Python\n",
    "            colnames(vendor_params) <- c(\"max_est\", \"max_se\", \"max_lower\", \"max_upper\",\n",
    "                                         \"slope_est\", \"slope_se\", \"slope_lower\", \"slope_upper\",\n",
    "                                         \"ec50_est\", \"ec50_se\", \"ec50_lower\", \"ec50_upper\")\n",
    "            \n",
    "            vendor_params_df <- as.data.frame(vendor_params)\n",
    "            vendor_params_df$vendor_id <- rownames(vendor_params)\n",
    "            \"\"\")\n",
    "            \n",
    "            # --- Convert results back to Python and Display ---\n",
    "            with localconverter(ro.default_converter + pandas2ri.converter):\n",
    "                vendor_params_df = ro.r('vendor_params_df')\n",
    "            \n",
    "            display(Markdown(\"#### Distribution of Vendor S-Curve Parameters\"))\n",
    "            show_table(vendor_params_df[['vendor_id', 'max_est', 'slope_est', 'ec50_est']].describe(),\n",
    "                       \"Summary Statistics of Vendor S-Curve Parameters\")\n",
    "\n",
    "        except Exception as e:\n",
    "            print(f\"\\nERROR running the Bayesian S-curve model in R: {e}\")"
   ]
  },
  {
   "cell_type": "code",
   "execution_count": 67,
   "id": "b8a2de12",
   "metadata": {},
   "outputs": [],
   "source": [
    "# (Run this cell after the brms model finishes)\n",
    "if 'vendor_params_df' in locals():\n",
    "    # --- Calculating and Plotting Variable iROAS ---\n",
    "    display(Markdown(\"#### iROAS Calculation from S-Curves\"))\n",
    "    \n",
    "    # Pick one sample vendor from the results\n",
    "    sample_vendor = vendor_params_df.iloc[0]\n",
    "    \n",
    "    # Get their estimated S-curve parameters\n",
    "    v_max = sample_vendor['max_est']\n",
    "    v_slope = sample_vendor['slope_est']\n",
    "    v_ec50 = sample_vendor['ec50_est']\n",
    "    \n",
    "    # Assume a CPC\n",
    "    assumed_cpc = 0.75\n",
    "    \n",
    "    def calculate_iroas(clicks, p_max, p_slope, p_ec50, cpc):\n",
    "        # Derivative of the Hill function\n",
    "        numerator = p_max * p_slope * (p_ec50**p_slope) * (clicks**(p_slope-1))\n",
    "        denominator = ((p_ec50**p_slope) + (clicks**p_slope))**2\n",
    "        marginal_revenue_per_click = numerator / denominator\n",
    "        return marginal_revenue_per_click / cpc\n",
    "\n",
    "    # Calculate iROAS at different click levels\n",
    "    clicks_low = 50\n",
    "    clicks_mid = v_ec50 # At the half-saturation point\n",
    "    clicks_high = v_ec50 * 3 # In the saturation zone\n",
    "    \n",
    "    iroas_low = calculate_iroas(clicks_low, v_max, v_slope, v_ec50, assumed_cpc)\n",
    "    iroas_mid = calculate_iroas(clicks_mid, v_max, v_slope, v_ec50, assumed_cpc)\n",
    "    iroas_high = calculate_iroas(clicks_high, v_max, v_slope, v_ec50, assumed_cpc)\n",
    "    \n",
    "    iroas_table = {\n",
    "        \"Click Level\": [f\"Low ({clicks_low} clicks)\", f\"Mid ({int(clicks_mid)} clicks)\", f\"High ({int(clicks_high)} clicks)\"],\n",
    "        \"Calculated iROAS\": [f\"${iroas_low:.2f}\", f\"${iroas_mid:.2f}\", f\"${iroas_high:.2f}\"]\n",
    "    }\n",
    "    show_table(pd.DataFrame(iroas_table), f\"Variable iROAS for Vendor: {sample_vendor['vendor_id']}\")\n",
    "    \n",
    "    print(\"\\nInterpretation: As clicks (and spend) increase, the incremental ROAS decreases,\")\n",
    "    print(\"reflecting diminishing returns.\")"
   ]
  }
 ],
 "metadata": {
  "kernelspec": {
   "display_name": "venv",
   "language": "python",
   "name": "python3"
  },
  "language_info": {
   "codemirror_mode": {
    "name": "ipython",
    "version": 3
   },
   "file_extension": ".py",
   "mimetype": "text/x-python",
   "name": "python",
   "nbconvert_exporter": "python",
   "pygments_lexer": "ipython3",
   "version": "3.13.7"
  }
 },
 "nbformat": 4,
 "nbformat_minor": 5
}
