{
 "cells": [
  {
   "cell_type": "markdown",
   "metadata": {},
   "source": [
    "# Data Generation and Extraction\n",
    "This notebook contains the code to obtain the daily click-to-purchase funnel data"
   ]
  },
  {
   "cell_type": "code",
   "execution_count": null,
   "metadata": {},
   "outputs": [],
   "source": [
    "import pandas as pd\n",
    "import numpy as np\n",
    "from datetime import datetime, timedelta"
   ]
  },
  {
   "cell_type": "markdown",
   "metadata": {},
   "source": [
    "## SQL Query for Data Extraction\n",
    "This is the query that would be run against your data warehouse"
   ]
  },
  {
   "cell_type": "code",
   "execution_count": null,
   "metadata": {},
   "outputs": [],
   "source": [
    "query = \"\"\"\n",
    "WITH daily_clicks AS (\n",
    "    SELECT \n",
    "        DATE(occurred_at) as activity_date,\n",
    "        COUNT(DISTINCT interaction_id) as total_clicks,\n",
    "        COUNT(DISTINCT user_id) as unique_clickers\n",
    "    FROM clicks\n",
    "    WHERE occurred_at BETWEEN '2025-03-01' AND '2025-09-30'\n",
    "    GROUP BY 1\n",
    "),\n",
    "daily_purchases AS (\n",
    "    SELECT \n",
    "        DATE(purchased_at) as activity_date,\n",
    "        COUNT(DISTINCT purchase_id) as total_purchases,\n",
    "        SUM(quantity * unit_price) as total_revenue,\n",
    "        AVG(quantity * unit_price) as aov\n",
    "    FROM purchases\n",
    "    WHERE purchased_at BETWEEN '2025-03-01' AND '2025-09-30'\n",
    "    GROUP BY 1\n",
    ")\n",
    "SELECT \n",
    "    COALESCE(c.activity_date, p.activity_date) as activity_date,\n",
    "    COALESCE(c.total_clicks, 0) as total_clicks,\n",
    "    COALESCE(p.total_purchases, 0) as total_purchases,\n",
    "    COALESCE(p.aov, 0) as aov,\n",
    "    COALESCE(p.total_revenue, 0) as total_revenue\n",
    "FROM daily_clicks c\n",
    "FULL OUTER JOIN daily_purchases p ON c.activity_date = p.activity_date\n",
    "ORDER BY 1\n",
    "\"\"\"\n",
    "\n",
    "print(\"SQL Query prepared for data extraction\")"
   ]
  },
  {
   "cell_type": "markdown",
   "metadata": {},
   "source": [
    "## Load Existing Data"
   ]
  },
  {
   "cell_type": "code",
   "execution_count": null,
   "metadata": {},
   "outputs": [],
   "source": [
    "# Load the data\n",
    "display_df = pd.read_csv('daily_click_to_purchase_funnel_summary.csv')\n",
    "\n",
    "print(\"--- Daily Click-to-Purchase Funnel Summary ---\")\n",
    "print(f\"Data loaded: {len(display_df)} days\")\n",
    "print(f\"Date range: {display_df['activity_date'].min()} to {display_df['activity_date'].max()}\")\n",
    "print(\"\\nSample data:\")\n",
    "display_df.head(10)"
   ]
  },
  {
   "cell_type": "markdown",
   "metadata": {},
   "source": [
    "## Data Statistics"
   ]
  },
  {
   "cell_type": "code",
   "execution_count": null,
   "metadata": {},
   "outputs": [],
   "source": [
    "# Summary statistics\n",
    "print(\"Summary Statistics:\")\n",
    "print(display_df[['total_clicks', 'total_purchases', 'aov', 'total_revenue']].describe())\n",
    "\n",
    "# Calculate conversion rate\n",
    "display_df['conversion_rate_calc'] = (display_df['total_purchases'] / display_df['total_clicks'] * 100).round(2)\n",
    "print(f\"\\nAverage conversion rate: {display_df['conversion_rate_calc'].mean():.2f}%\")\n",
    "print(f\"Average AOV: ${display_df['aov'].mean():,.2f}\")"
   ]
  },
  {
   "cell_type": "markdown",
   "metadata": {},
   "source": [
    "## Export Data"
   ]
  },
  {
   "cell_type": "code",
   "execution_count": null,
   "metadata": {},
   "outputs": [],
   "source": [
    "# Save the data (already exists, so commenting out)\n",
    "# display_df.to_csv('daily_click_to_purchase_funnel_summary.csv', index=False)\n",
    "# print(\"Data saved to: daily_click_to_purchase_funnel_summary.csv\")\n",
    "\n",
    "print(\"Data is ready for ARDL analysis!\")\n",
    "print(\"\\nTo run the analysis, use:\")\n",
    "print(\"  python3 main.py\")"
   ]
  }
 ],
 "metadata": {
  "kernelspec": {
   "display_name": "Python 3",
   "language": "python",
   "name": "python3"
  },
  "language_info": {
   "codemirror_mode": {
    "name": "ipython",
    "version": 3
   },
   "file_extension": ".py",
   "mimetype": "text/x-python",
   "name": "python",
   "nbconvert_exporter": "python",
   "pygments_lexer": "ipython3",
   "version": "3.8.0"
  }
 },
 "nbformat": 4,
 "nbformat_minor": 4
}